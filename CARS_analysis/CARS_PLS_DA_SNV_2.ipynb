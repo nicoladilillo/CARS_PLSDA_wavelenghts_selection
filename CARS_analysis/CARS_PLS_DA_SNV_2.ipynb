{
 "cells": [
  {
   "cell_type": "code",
   "execution_count": 1,
   "metadata": {},
   "outputs": [],
   "source": [
    "import os\n",
    "from CARS_model import CARS\n",
    "col_group = ['Class', 'Date', 'Position', 'Acquisition', 'N']\n",
    "file_name = 'CARS_PLS_DA_SNV_2'\n",
    "path = os.path.join(os.path.abspath(os.getcwd()), file_name)\n",
    "c = CARS(path, MAX_COMPONENTS=2, col_group=col_group)"
   ]
  },
  {
   "cell_type": "code",
   "execution_count": 2,
   "metadata": {},
   "outputs": [],
   "source": [
    "c.compute_survived_wavelengths_best_accuracy()"
   ]
  },
  {
   "cell_type": "code",
   "execution_count": 3,
   "metadata": {},
   "outputs": [
    {
     "data": {
      "application/vnd.plotly.v1+json": {
       "config": {
        "plotlyServerURL": "https://plot.ly"
       },
       "data": [
        {
         "bingroup": "x",
         "histfunc": "sum",
         "hovertemplate": "Wavelengths=%{x}<br>sum of count=%{y}<extra></extra>",
         "legendgroup": "",
         "marker": {
          "color": "#636efa",
          "pattern": {
           "shape": ""
          }
         },
         "name": "",
         "orientation": "v",
         "showlegend": false,
         "type": "histogram",
         "x": [
          "450.404",
          "450.903",
          "451.403",
          "451.902",
          "452.401",
          "452.9",
          "453.399",
          "453.898",
          "454.396",
          "454.895",
          "455.393",
          "455.892",
          "456.39",
          "456.888",
          "457.386",
          "457.884",
          "458.382",
          "458.879",
          "459.377",
          "459.874",
          "460.372",
          "460.869",
          "461.366",
          "461.863",
          "462.36",
          "462.857",
          "463.353",
          "463.85",
          "464.346",
          "464.843",
          "465.339",
          "465.835",
          "466.331",
          "466.827",
          "467.323",
          "467.818",
          "468.314",
          "468.809",
          "469.305",
          "469.8",
          "470.295",
          "470.79",
          "471.285",
          "471.78",
          "472.274",
          "472.769",
          "473.263",
          "473.758",
          "474.252",
          "474.746",
          "475.24",
          "475.734",
          "476.228",
          "476.721",
          "477.215",
          "477.708",
          "478.202",
          "478.695",
          "479.188",
          "479.681",
          "480.174",
          "480.667",
          "481.159",
          "481.652",
          "482.144",
          "482.637",
          "483.129",
          "483.621",
          "484.113",
          "484.605",
          "485.097",
          "485.588",
          "486.08",
          "486.571",
          "487.063",
          "487.554",
          "488.045",
          "488.536",
          "489.027",
          "489.518",
          "490.008",
          "490.499",
          "490.989",
          "491.48",
          "491.97",
          "492.46",
          "492.95",
          "493.44",
          "493.93",
          "494.419",
          "494.909",
          "495.398",
          "495.888",
          "496.377",
          "496.866",
          "497.355",
          "497.844",
          "498.333",
          "498.821",
          "499.31",
          "499.798",
          "500.287",
          "500.775",
          "501.263",
          "501.751",
          "502.239",
          "502.727",
          "503.215",
          "503.702",
          "504.19",
          "504.677",
          "505.164",
          "505.651",
          "506.139",
          "506.625",
          "507.112",
          "507.599",
          "508.086",
          "508.572",
          "509.058",
          "509.545",
          "510.031",
          "510.517",
          "511.003",
          "511.489",
          "511.974",
          "512.46",
          "512.946",
          "513.431",
          "513.916",
          "514.401",
          "514.887",
          "515.371",
          "515.856",
          "516.341",
          "516.826",
          "517.31",
          "517.795",
          "518.279",
          "518.763",
          "519.247",
          "519.731",
          "520.215",
          "520.699",
          "521.182",
          "521.666",
          "522.149",
          "522.633",
          "523.116",
          "523.599",
          "524.082",
          "524.565",
          "525.048",
          "525.53",
          "526.013",
          "526.495",
          "526.978",
          "527.46",
          "527.942",
          "528.424",
          "528.906",
          "529.388",
          "529.87",
          "530.351",
          "530.833",
          "531.314",
          "531.795",
          "532.277",
          "532.758",
          "533.238",
          "533.719",
          "534.2",
          "534.681",
          "535.161",
          "535.642",
          "536.122",
          "536.602",
          "537.082",
          "537.562",
          "538.042",
          "538.522",
          "539.001",
          "539.481",
          "539.96",
          "540.44",
          "540.919",
          "541.398",
          "541.877",
          "542.356",
          "542.835",
          "543.313",
          "543.792",
          "544.27",
          "544.749",
          "545.227",
          "545.705",
          "546.183",
          "546.661",
          "547.139",
          "547.616",
          "548.094",
          "548.571",
          "549.049",
          "549.526",
          "550.003",
          "550.48",
          "550.957",
          "551.434",
          "551.911",
          "552.387",
          "552.864",
          "553.34",
          "553.817",
          "554.293",
          "554.769",
          "555.245",
          "555.721",
          "556.197",
          "556.672",
          "557.148",
          "557.623",
          "558.099",
          "558.574",
          "559.049",
          "559.524",
          "559.999",
          "560.474",
          "560.948",
          "561.423",
          "561.897",
          "562.372",
          "562.846",
          "563.32",
          "563.794",
          "564.268",
          "564.742",
          "565.216",
          "565.69",
          "566.163",
          "566.636",
          "567.11",
          "567.583",
          "568.056",
          "568.529",
          "569.002",
          "569.475",
          "569.947",
          "570.42",
          "570.892",
          "571.365",
          "571.837",
          "572.309",
          "572.781",
          "573.253",
          "573.725",
          "574.197",
          "574.668",
          "575.14",
          "575.611",
          "576.082",
          "576.554",
          "577.025",
          "577.496",
          "577.967",
          "578.437",
          "578.908",
          "579.379",
          "579.849",
          "580.319",
          "580.79",
          "581.26",
          "581.73",
          "582.2",
          "582.669",
          "583.139",
          "583.609",
          "584.078",
          "584.548",
          "585.017",
          "585.486",
          "585.955",
          "586.424",
          "586.893",
          "587.362",
          "587.83",
          "588.299",
          "588.767",
          "589.236",
          "589.704",
          "590.172",
          "590.64",
          "591.108",
          "591.576",
          "592.043",
          "592.511",
          "592.978",
          "593.446",
          "593.913",
          "594.38",
          "594.847",
          "595.314",
          "595.781",
          "596.248",
          "596.715",
          "597.181",
          "597.647",
          "598.114",
          "598.58",
          "599.046",
          "599.512",
          "599.978",
          "600.444",
          "600.91",
          "601.375",
          "601.841",
          "602.306",
          "602.771",
          "603.236",
          "603.702",
          "604.167",
          "604.631",
          "605.096",
          "605.561",
          "606.025",
          "606.49",
          "606.954",
          "607.418",
          "607.882",
          "608.347",
          "608.81",
          "609.274",
          "609.738",
          "610.202",
          "610.665",
          "611.128",
          "611.592",
          "612.055",
          "612.518",
          "612.981",
          "613.444",
          "613.907",
          "614.369",
          "614.832",
          "615.294",
          "615.757",
          "616.219",
          "616.681",
          "617.143",
          "617.605",
          "618.067",
          "618.529",
          "618.99",
          "619.452",
          "619.913",
          "620.375",
          "620.836",
          "621.297",
          "621.758",
          "622.219",
          "622.68",
          "623.14",
          "623.601",
          "624.061",
          "624.522",
          "624.982",
          "625.442",
          "625.902",
          "626.362",
          "626.822",
          "627.282",
          "627.742",
          "628.201",
          "628.661",
          "629.12",
          "629.579",
          "630.038",
          "630.497",
          "630.956",
          "631.415",
          "631.874",
          "632.332",
          "632.791",
          "633.249",
          "633.708",
          "634.166",
          "634.624",
          "635.082",
          "635.54",
          "635.998",
          "636.455",
          "636.913",
          "637.37",
          "637.828",
          "638.285",
          "638.742",
          "639.199",
          "639.656",
          "640.113",
          "640.57",
          "641.027",
          "641.483",
          "641.94",
          "642.396",
          "642.852",
          "643.309",
          "643.765",
          "644.221",
          "644.676",
          "645.132",
          "645.588",
          "646.043",
          "646.499",
          "646.954",
          "647.409",
          "647.864",
          "648.319",
          "648.774",
          "649.229",
          "649.684",
          "650.139",
          "650.593",
          "651.047",
          "651.502",
          "651.956",
          "652.41",
          "652.864",
          "653.318",
          "653.772",
          "654.225",
          "654.679",
          "655.133",
          "655.586",
          "656.039",
          "656.492",
          "656.946",
          "657.399",
          "657.851",
          "658.304",
          "658.757",
          "659.209",
          "659.662",
          "660.114",
          "660.567",
          "661.019",
          "661.471",
          "661.923",
          "662.375",
          "662.826",
          "663.278",
          "663.73",
          "664.181",
          "664.632",
          "665.084",
          "665.535",
          "665.986",
          "666.437",
          "666.888",
          "667.338",
          "667.789",
          "668.24",
          "668.69",
          "669.14",
          "669.591",
          "670.041",
          "670.491",
          "670.941",
          "671.391",
          "671.84",
          "672.29",
          "672.74",
          "673.189",
          "673.638",
          "674.088",
          "674.537",
          "674.986",
          "675.435",
          "675.883",
          "676.332",
          "676.781",
          "677.229",
          "677.678",
          "678.126",
          "678.574",
          "679.022",
          "679.47",
          "679.918",
          "680.366",
          "680.814",
          "681.261",
          "681.709",
          "682.156",
          "682.604",
          "683.051",
          "683.498",
          "683.945",
          "684.392",
          "684.839",
          "685.286",
          "685.732",
          "686.179",
          "686.625",
          "687.071",
          "687.518",
          "687.964",
          "688.41",
          "688.856",
          "689.301",
          "689.747",
          "690.193",
          "690.638",
          "691.084",
          "691.529",
          "691.974",
          "692.419",
          "692.864",
          "693.309",
          "693.754",
          "694.199",
          "694.643",
          "695.088",
          "695.532",
          "695.977",
          "696.421",
          "696.865",
          "697.309",
          "697.753",
          "698.197",
          "698.64",
          "699.084",
          "699.527",
          "699.971",
          "700.414",
          "700.857",
          "701.3",
          "701.743",
          "702.186",
          "702.629",
          "703.072",
          "703.515",
          "703.957",
          "704.399",
          "704.842",
          "705.284",
          "705.726",
          "706.168",
          "706.61",
          "707.052",
          "707.494",
          "707.935",
          "708.377",
          "708.818",
          "709.26",
          "709.701",
          "710.142",
          "710.583",
          "711.024",
          "711.465",
          "711.905",
          "712.346",
          "712.787",
          "713.227",
          "713.667",
          "714.108",
          "714.548",
          "714.988",
          "715.428",
          "715.868",
          "716.307",
          "716.747",
          "717.186",
          "717.626",
          "718.065",
          "718.504",
          "718.944",
          "719.383",
          "719.822",
          "720.261",
          "720.699",
          "721.138",
          "721.576",
          "722.015",
          "722.453",
          "722.892",
          "723.33",
          "723.768",
          "724.206",
          "724.644",
          "725.081",
          "725.519",
          "725.957",
          "726.394",
          "726.832",
          "727.269",
          "727.706",
          "728.143",
          "728.58",
          "729.017",
          "729.454",
          "729.89",
          "730.327",
          "730.764",
          "731.2",
          "731.636",
          "732.072",
          "732.509",
          "732.945",
          "733.38",
          "733.816",
          "734.252",
          "734.688",
          "735.123",
          "735.559",
          "735.994",
          "736.429",
          "736.864",
          "737.299",
          "737.734",
          "738.169",
          "738.604",
          "739.038",
          "739.473",
          "739.907",
          "740.342",
          "740.776",
          "741.21",
          "741.644",
          "742.078",
          "742.512",
          "742.946",
          "743.379",
          "743.813",
          "744.246",
          "744.68",
          "745.113",
          "745.546",
          "745.979",
          "746.412",
          "746.845",
          "747.278",
          "747.711",
          "748.143",
          "748.576",
          "749.008",
          "749.441",
          "749.873",
          "750.305",
          "750.737",
          "751.169",
          "751.601",
          "752.032",
          "752.464",
          "752.896",
          "753.327",
          "753.758",
          "754.19",
          "754.621",
          "755.052",
          "755.483",
          "755.914",
          "756.344",
          "756.775",
          "757.206",
          "757.636",
          "758.066",
          "758.497",
          "758.927",
          "759.357",
          "759.787",
          "760.217",
          "760.647",
          "761.076",
          "761.506",
          "761.935",
          "762.365",
          "762.794",
          "763.223",
          "763.653",
          "764.082",
          "764.51",
          "764.939",
          "765.368",
          "765.797",
          "766.225",
          "766.654",
          "767.082",
          "767.51",
          "767.938",
          "768.367",
          "768.795",
          "769.222",
          "769.65",
          "770.078",
          "770.505",
          "770.933",
          "771.36",
          "771.788",
          "772.215",
          "772.642",
          "773.069",
          "773.496",
          "773.923",
          "774.349",
          "774.776",
          "775.203",
          "775.629",
          "776.055",
          "776.482",
          "776.908",
          "777.334",
          "777.76",
          "778.186",
          "778.611",
          "779.037",
          "779.463",
          "779.888",
          "780.314",
          "780.739",
          "781.164",
          "781.589",
          "782.014",
          "782.439",
          "782.864",
          "783.289",
          "783.713",
          "784.138",
          "784.562",
          "784.987",
          "785.411",
          "785.835",
          "786.259",
          "786.683",
          "787.107",
          "787.531",
          "787.954",
          "788.378",
          "788.802",
          "789.225",
          "789.648",
          "790.071",
          "790.495",
          "790.918",
          "791.34",
          "791.763",
          "792.186",
          "792.609",
          "793.031",
          "793.454",
          "793.876",
          "794.298",
          "794.721",
          "795.143",
          "795.565",
          "795.986",
          "796.408",
          "796.83",
          "797.252",
          "797.673",
          "798.094",
          "798.516",
          "798.937",
          "799.358",
          "799.779",
          "800.2",
          "800.621",
          "801.042",
          "801.462",
          "801.883",
          "802.303",
          "802.724",
          "803.144",
          "803.564",
          "803.984",
          "804.404",
          "804.824",
          "805.244",
          "805.664",
          "806.084",
          "806.503",
          "806.923",
          "807.342",
          "807.761",
          "808.18",
          "808.599",
          "809.018",
          "809.437",
          "809.856",
          "810.275",
          "810.693",
          "811.112",
          "811.53",
          "811.949",
          "812.367",
          "812.785",
          "813.203",
          "813.621",
          "814.039",
          "814.457",
          "814.874",
          "815.292",
          "815.709",
          "816.127",
          "816.544",
          "816.961",
          "817.378",
          "817.795",
          "818.212",
          "818.629",
          "819.046",
          "819.462",
          "819.879",
          "820.295",
          "820.712",
          "821.128",
          "821.544",
          "821.96",
          "822.376",
          "822.792",
          "823.208",
          "823.624",
          "824.039",
          "824.455",
          "824.87",
          "825.286",
          "825.701",
          "826.116",
          "826.531",
          "826.946",
          "827.361",
          "827.776",
          "828.19",
          "828.605",
          "829.02",
          "829.434",
          "829.848",
          "830.263",
          "830.677",
          "831.091",
          "831.505",
          "831.919",
          "832.332",
          "832.746",
          "833.16",
          "833.573",
          "833.987",
          "834.4",
          "834.813",
          "835.226",
          "835.639",
          "836.052",
          "836.465",
          "836.878",
          "837.29",
          "837.703",
          "838.116",
          "838.528",
          "838.94",
          "839.352",
          "839.765",
          "840.177",
          "840.589",
          "841.0",
          "841.412",
          "841.824",
          "842.235",
          "842.647",
          "843.058",
          "843.47",
          "843.881",
          "844.292",
          "844.703",
          "845.114",
          "845.525",
          "845.935",
          "846.346",
          "846.757",
          "847.167",
          "847.577",
          "847.988",
          "848.398",
          "848.808",
          "849.218",
          "849.628",
          "850.038",
          "850.448",
          "850.857",
          "851.267",
          "851.676",
          "852.086",
          "852.495",
          "852.904",
          "853.313",
          "853.722",
          "854.131",
          "854.54",
          "854.949",
          "855.357",
          "855.766",
          "856.174",
          "856.583",
          "856.991",
          "857.399",
          "857.807",
          "858.215",
          "858.623",
          "859.031",
          "859.439",
          "859.846",
          "860.254",
          "860.661",
          "861.069",
          "861.476",
          "861.883",
          "862.29",
          "862.697",
          "863.104",
          "863.511",
          "863.918",
          "864.325",
          "864.731",
          "865.138",
          "865.544",
          "865.95",
          "866.357",
          "866.763",
          "867.169",
          "867.575",
          "867.98",
          "868.386",
          "868.792",
          "869.197",
          "869.603",
          "870.008",
          "870.414",
          "870.819",
          "871.224",
          "871.629",
          "872.034",
          "872.439",
          "872.844",
          "873.248",
          "873.653",
          "874.057",
          "874.462",
          "874.866",
          "875.27",
          "875.674",
          "876.078",
          "876.482",
          "876.886",
          "877.29",
          "877.694",
          "878.097",
          "878.501",
          "878.904",
          "879.308",
          "879.711",
          "880.114",
          "880.517",
          "880.92",
          "881.323",
          "881.726",
          "882.128",
          "882.531",
          "882.934",
          "883.336",
          "883.738",
          "884.141",
          "884.543",
          "884.945",
          "885.347",
          "885.749",
          "886.151",
          "886.552",
          "886.954",
          "887.355",
          "887.757",
          "888.158",
          "888.56",
          "888.961",
          "889.362",
          "889.763",
          "890.164",
          "890.565",
          "890.965",
          "891.366",
          "891.767",
          "892.167",
          "892.567",
          "892.968",
          "893.368",
          "893.768",
          "894.168",
          "894.568",
          "894.968",
          "895.368",
          "895.767",
          "896.167",
          "896.566",
          "896.966",
          "897.365",
          "897.764",
          "898.164",
          "898.563",
          "898.962",
          "899.361",
          "899.759",
          "900.158",
          "900.557",
          "900.955",
          "901.354",
          "901.752",
          "902.15",
          "902.548",
          "902.947",
          "903.345",
          "903.742",
          "904.14",
          "904.538",
          "904.936",
          "905.333",
          "905.731",
          "906.128",
          "906.525",
          "906.923",
          "907.32",
          "907.717",
          "908.114",
          "908.511",
          "908.907",
          "909.304",
          "909.701",
          "910.097",
          "910.494",
          "910.89",
          "911.286",
          "911.682",
          "912.078",
          "912.474",
          "912.87",
          "913.266",
          "913.662",
          "914.058",
          "914.453",
          "914.849",
          "915.244",
          "915.639",
          "916.034",
          "916.43",
          "916.825",
          "917.22",
          "917.614",
          "918.009",
          "918.404",
          "918.798",
          "919.193",
          "919.587",
          "919.982",
          "920.376",
          "920.77",
          "921.164",
          "921.558",
          "921.952",
          "922.346",
          "922.74",
          "923.133",
          "923.527",
          "923.92",
          "924.314",
          "924.707",
          "925.1",
          "925.493",
          "925.886",
          "926.279",
          "926.672",
          "927.065",
          "927.457",
          "927.85",
          "928.243",
          "928.635",
          "929.027",
          "929.42",
          "929.812",
          "930.204",
          "930.596",
          "930.988",
          "931.379",
          "931.771",
          "932.163",
          "932.554",
          "932.946",
          "933.337",
          "933.729",
          "934.12",
          "934.511",
          "934.902",
          "935.293",
          "935.684",
          "936.075",
          "936.465",
          "936.856",
          "937.246",
          "937.637",
          "938.027",
          "938.417",
          "938.808",
          "939.198",
          "939.588",
          "939.978",
          "940.368",
          "940.757",
          "941.147",
          "941.537",
          "941.926",
          "942.315",
          "942.705",
          "943.094",
          "943.483",
          "943.872",
          "944.261",
          "944.65",
          "945.039",
          "945.428",
          "945.816",
          "946.205",
          "946.593",
          "946.982",
          "947.37",
          "947.758",
          "948.146",
          "948.534",
          "948.922",
          "949.31",
          "949.698"
         ],
         "xaxis": "x",
         "y": {
          "bdata": "AAAAAAAAAAAAAAAAAADwPwAAAAAAAAAAAAAAAAAAAAAAAAAAAAAAAAAAAAAAAAhAAAAAAAAAAAAAAAAAAAAAAAAAAAAAAAAAAAAAAAAAAAAAAAAAAAAAAAAAAAAAAAAAAAAAAAAAAAAAAAAAAAAAAAAAAAAAAAAAAAAAAAAAAAAAAAAAAAAAAAAAAAAAAAAAAAAAAAAAAAAAAAAAAAAAAAAAAAAAAAAAAAAAAAAAAAAAAAAAAAAAAAAAAAAAAAAAAAAAAAAAAAAAAAAAAADwPwAAAAAAAAAAAAAAAAAAAAAAAAAAAAAAAAAAAAAAAAAAAAAAAAAA8D8AAAAAAAAAAAAAAAAAAABAAAAAAAAAAAAAAAAAAAAAAAAAAAAAAAAAAAAAAAAAAAAAAAAAAAAAAAAAAAAAAAAAAAAAAAAAAAAAAAAAAAAAAAAAAAAAAAAAAAAAAAAAAAAAAAAAAAAAAAAAAAAAAAAAAAAAAAAAAAAAAAAAAAAAAAAAAAAAAABAAAAAAAAAAAAAAAAAAAAAAAAAAAAAAAAAAAAAAAAAAEAAAAAAAAAAAAAAAAAAAAAAAAAAAAAACEAAAAAAAAAAAAAAAAAAAPA/AAAAAAAAAAAAAAAAAAAAAAAAAAAAAAAAAAAAAAAAAAAAAAAAAAAAAAAAAAAAAAAAAAAAAAAAAAAAAAAAAAAAAAAAAAAAAAAAAAAAAAAA8D8AAAAAAAAUQAAAAAAAAAAAAAAAAAAAAAAAAAAAAAAAAAAAAAAAAAhAAAAAAAAAAAAAAAAAAAAAAAAAAAAAAD1AAAAAAAAAAAAAAAAAAAAAAAAAAAAAAAAAAAAAAACAQkAAAAAAAAAAQAAAAAAAAAhAAAAAAAAALEAAAAAAAAAiQAAAAAAAAABAAAAAAAAAP0AAAAAAAAAAAAAAAAAAAPA/AAAAAAAAAAAAAAAAAAAAAAAAAAAAQFJAAAAAAAAAAAAAAAAAAAAAAAAAAAAAAAAAAAAAAAAAAAAAAAAAAADwPwAAAAAAAAAAAAAAAAAAGEAAAAAAAAAAAAAAAAAAgHRAAAAAAABQeEAAAAAAAAAQQAAAAAAAAG9AAAAAAAAAGEAAAAAAAIBAQAAAAAAAgFpAAAAAAAAAHEAAAAAAAIB0QAAAAAAA4GRAAAAAAAAAAAAAAAAAAJB9QAAAAAAAAAAAAAAAAABgbEAAAAAAAABOQAAAAAAAwHJAAAAAAAAAAAAAAAAAAEBXQAAAAAAAABxAAAAAAADgYEAAAAAAAAAAAAAAAAAAAAAAAAAAAACAZEAAAAAAAAAAAAAAAAAAABBAAAAAAAAAPkAAAAAAAAAAQAAAAAAAAAAAAAAAAAAANEAAAAAAAAAIQAAAAAAAAAAAAAAAAAAAAAAAAAAAAAAAQAAAAAAAAAAAAAAAAAAAAAAAAAAAAADwPwAAAAAAAPA/AAAAAAAAAAAAAAAAAAAAQAAAAAAAAAAAAAAAAAAAAAAAAAAAAAAAAAAAAAAAAAAAAAAAAAAAAAAAAAAAAAAAAAAAAAAAAAAAAAAAAAAAAAAAAAAAAAAAAAAAAAAAAABAAAAAAAAAAAAAAAAAAAAAAAAAAAAAAAAAAAAAAAAA8D8AAAAAAAAAAAAAAAAAAAAAAAAAAAAAAAAAAAAAAAAAAAAAAAAAAAAAAAAAAAAAAEAAAAAAAAAAAAAAAAAAAAhAAAAAAAAAAAAAAAAAAADwPwAAAAAAAAAAAAAAAAAAAAAAAAAAAAAAAAAAAAAAAAAAAAAAAAAAAAAAAAAAAADwPwAAAAAAAAAAAAAAAAAAAAAAAAAAAADwPwAAAAAAAAAAAAAAAAAAAAAAAAAAAADwPwAAAAAAAPA/AAAAAAAAAAAAAAAAAAAIQAAAAAAAAPA/AAAAAAAAAAAAAAAAAAAAAAAAAAAAAAAAAAAAAAAAAAAAAAAAAAAAAAAAAAAAAAAAAAAAAAAAAAAAAAAAAAAAAAAAAAAAAAAAAAAAAAAAAAAAAAAAAAAAAAAAAAAAAAAAAAAAAAAAAEAAAAAAAAAAAAAAAAAAAAAAAAAAAAAAAAAAAAAAAAAAAAAAAAAAAAAAAAAAAAAAAAAAAAAAAAAAAAAAAAAAAAAAAAAAAAAAAAAAAAAAAADwPwAAAAAAAAAAAAAAAAAAAAAAAAAAAAAAAAAAAAAAAAAAAAAAAAAAAAAAAAAAAAAAAAAAAAAAAAAAAAAAAAAAAAAAAAAAAAAAAAAAAAAAAPA/AAAAAAAAAAAAAAAAAAAAAAAAAAAAAAAAAAAAAAAAAAAAAAAAAAAAAAAAAAAAAAAAAAAAAAAAAAAAAAAAAAAAAAAAAAAAAAAAAAAAAAAAAAAAAAAAAAAAAAAAAAAAAAAAAAAAAAAAAAAAAAAAAAAAAAAAAAAAAAAAAAAAAAAAAAAAAAAAAAAAAAAAAAAAAAAAAAAAAAAAAAAAAAAAAAAAAAAAAAAAAAAAAAAAAAAAAAAAAAAAAADwPwAAAAAAAAAAAAAAAAAAAAAAAAAAAAAAAAAAAAAAAAAAAAAAAAAAAAAAAAAAAAAAAAAAAAAAAAAAAAAAAAAAAAAAAAAAAAAAAAAAAAAAAAAAAAAAAAAAAAAAAAAAAAAAAAAAAAAAAAAAAAAAAAAAAAAAAAAAAAAAAAAAAAAAAAAAAAAAAAAAAAAAAAAAAAAAAAAAAAAAAAAAAAAAAAAAAAAAAAAAAAAAAAAAAAAAAAAAAAAAAAAAAAAAAAAAAAAAAAAAAAAAAAAAAAAAAAAAAAAAAAAAAAAAAAAAAAAAAAAAAAAAAAAAAAAAAAAAAAAAAAAAAAAAAAAAAAAAAAAAAAAAAAAAAAAAAAAAAAAAAAAAAAAAAAAAAAAAAAAAAAAAAAAAAAAAAAAAAAAAAAAAAAAAAAAAAAAAAAAAAAAAAAAAAAAAAAAAAAAAAAAAAAAAAAAAAAAAAAAAAAAAAAAAAAAAAAAAAAAAAAAAAAAAAAAAAAAAAAAAAAAAAAAAAAAAAAAAAAAAAAAAAAAAAAAAAAAAAAAAAAAAAAAAAAAAAAAAAAAAAAAAAAAAAAAAAAAAAAAAAAAAAAAAAAAAAAAAAAAAAAAAAAAAAAAAAAAAAAAAAAAAAAAAAAAAAAAAAAAAAAAAAAAAAAAAAAAAAAAAAAAAAAAAAAAAAAAAAAAAAAAAAAAAAAAAAAAAAAAAAAAAAAAAAAAAAAAAAAAAAAAAAAAAAAAAAAAAAAAAAAAAAAAAAAAAAAAAAAAAAAAAAAAAAAAAAAAAAAAAAAAAAAAAAAAAAAAAAAAAAAAAAAAAAAAAAAAAAAAAAAAAAAAAAAAAAAAAAAAAAAAAAAAAAAAAAAAAAAAAAAAAAAAAAAAAAAAAAAAAAAAAAAAAAAAAAAAAAAAAAAAAAAAAAAAAAAAAAAAAAAAAAAAAAAAAAAAAAAAAAAAAAAAAAAAAAAAAAAAAAAAAAAAAAAAAAAAAAAAAAAAAAAAAAAAAAAAAAAAAAAAAAAAAAAAAAAAAAAAAAAAAAAAAAAAAAAAAAAAAAAAAAAAAAAAAAAAAAAAAAAAAAAAAAAAAAAAAAAAAAAAAAAAAAAAAAAAAAAAAAAAAAAAAAAAAAAAAAAAAAAAAAAAAAAAAAAAAAAAAAAAAAAAAAAAAAAAAAAAAAAAAAAAAAAAAAAAAAAAAAAAAAAAAAAAAAAAAAAAAAAAAAAAAAAAAAAAAAAAAAAAAAAAAAAAAAAAA8D8AAAAAAAAAAAAAAAAAAPA/AAAAAAAAAAAAAAAAAAAAAAAAAAAAAAAAAAAAAAAAAEAAAAAAAAAAQAAAAAAAAChAAAAAAAAAAEAAAAAAAAAAQAAAAAAAAPA/AAAAAAAA8D8AAAAAAAAIQAAAAAAAAAhAAAAAAAAAAEAAAAAAAAAkQAAAAAAAACRAAAAAAAAAJEAAAAAAAAAAQAAAAAAAABBAAAAAAAAAHEAAAAAAAAAiQAAAAAAAACRAAAAAAAAACEAAAAAAAAAxQAAAAAAAAPA/AAAAAAAAKEAAAAAAAAAzQAAAAAAAAAhAAAAAAAAAAAAAAAAAAAAYQAAAAAAAAABAAAAAAAAACEAAAAAAAAAoQAAAAAAAADZAAAAAAAAAAEAAAAAAAAAAQAAAAAAAABBAAAAAAAAAJEAAAAAAAAAAAAAAAAAAABBAAAAAAAAAFEAAAAAAAADwPwAAAAAAAAAAAAAAAAAAAAAAAAAAAAAAAAAAAAAAAPA/AAAAAAAAAAAAAAAAAAAAAAAAAAAAAAAAAAAAAAAAAAAAAAAAAAAAAAAAAAAAAAAAAAAAAAAAAEAAAAAAAAAAAAAAAAAAAAAAAAAAAAAAAAAAAAAAAAAAAAAAAAAAAAAAAAAAAAAAAAAAAAAAAAAAAAAAAAAAAAAAAAAAAAAAAAAAAAAAAAAAAAAAAAAAAAAAAAAAAAAAAAAAAAAAAAAAAAAAAAAAAABAAAAAAAAAAAAAAAAAAADwPwAAAAAAAAAAAAAAAAAAAAAAAAAAAAAAAAAAAAAAAAAAAAAAAAAAAAAAAAAAAAAAAAAAAAAAAAAAAAAAAAAAKEAAAAAAAAAAAAAAAAAAAAAAAAAAAAAAAAAAAAAAAAAAAAAAAAAAAAAAAAAAAAAAAAAAAAAAAAAAAAAAAAAAAAAAAAAAAAAAP0AAAAAAAABAQAAAAAAAAPA/AAAAAAAAT0AAAAAAAAAUQAAAAAAAABRAAAAAAAAAPkAAAAAAAABKQAAAAAAAABRAAAAAAAAAJkAAAAAAAAAIQAAAAAAAADtAAAAAAAAAJkAAAAAAAAAQQAAAAAAAAAAAAAAAAAAAEEAAAAAAAAAYQAAAAAAAADlAAAAAAAAAGEAAAAAAAADwPwAAAAAAAABAAAAAAAAAAAAAAAAAAAAAAAAAAAAAABBAAAAAAAAAAEAAAAAAAAAAAAAAAAAAAAAAAAAAAAAAAAAAAAAAAAAIQAAAAAAAAAAAAAAAAAAAAAAAAAAAAADwPwAAAAAAAAAAAAAAAAAAAAAAAAAAAAAAAAAAAAAAAAAAAAAAAAAA8D8AAAAAAAAAAAAAAAAAAAAAAAAAAAAAAAAAAAAAAAAAAAAAAAAAAAAAAAAAAAAAAAAAAAAAAAAAAAAAAAAAAAAAAAAAAAAAAAAAAAAAAAAAAAAAAAAAAAAAAAAAAAAACEAAAAAAAAAAQAAAAAAAAAAAAAAAAAAAAAAAAAAAAADwPwAAAAAAABBAAAAAAAAAIEAAAAAAAAAAQAAAAAAAACBAAAAAAAAAEEAAAAAAAAAgQAAAAAAAACJAAAAAAAAALkAAAAAAAABSQAAAAAAAAE9AAAAAAAAAO0AAAAAAAIBgQAAAAAAAAF1AAAAAAACAX0AAAAAAAJBxQAAAAAAAkHBAAAAAAACQckAAAAAAAMBvQAAAAAAAYHNAAAAAAACAYkAAAAAAACBoQAAAAAAAwFJAAAAAAAAAS0AAAAAAAIBJQAAAAAAAQFJAAAAAAAAAPUAAAAAAAIBBQAAAAAAAABxAAAAAAAAAIEAAAAAAAAAYQAAAAAAAAPA/AAAAAAAAEEAAAAAAAADwPwAAAAAAAAAAAAAAAAAAAAAAAAAAAAAAAAAAAAAAAAAAAAAAAAAAAAAAAAAAAAAAAAAAAAAAAAAAAAAAAAAAAAAAAAAAAAAAAAAAAAAAAAAAAAAAAAAAAAAAAAAAAAAAAAAAAAAAAAAAAAAAAAAAAAAAAAAAAAAAAAAAAAAAAAAAAAAAAAAAAAAAAAAAAAAAAAAAAAAAAAAAAAAAAAAAAAAAAAAAAAAAAAAAAAAAAAAAAAAAAAAAAAAAAAAAAAAAAAAAAAAAAAAAAAAAAAAAAAAAAAAAAAAAAAAAAAAAAAAAAAAAAAAAAAAAAAAAAAAAAAAAAAAAAAAAAAAAAAAAAAAAAAAAAAAAAAAAAAAAAAAAAAAAAAAAAAAAAAAAAAAAAAAAAAAAAAAAAAAAAAAAAAAAAAAAAAAAAAAAAAAAAAAAAAAAAAAAAAAAAAAAAAAAAAAAAAAAAAAAAAAAAAAAAAAAAAAAAAAAAAAAAAAAAAAAAAAAAAAAAAAAAAAAAADwPwAAAAAAAPA/AAAAAAAAAAAAAAAAAAAAAAAAAAAAAAAAAAAAAAAAAAAAAAAAAAAAAAAAAAAAAPA/AAAAAAAAAEAAAAAAAAAAAAAAAAAAAENAAAAAAAAAAAAAAAAAAAAAQAAAAAAAAABAAAAAAAAAHEAAAAAAAAAAAAAAAAAAAAAAAAAAAAAAAAAAAAAAAAAAQAAAAAAAAAAAAAAAAAAAAEAAAAAAAAAAAAAAAAAAAAAAAAAAAAAAAAAAAAAAAADwPwAAAAAAwFFAAAAAAAAANEAAAAAAAAAxQAAAAAAAwF9AAAAAAAAAGEAAAAAAAAAAAAAAAAAAAENAAAAAAAAAAAAAAAAAAIBdQAAAAAAAACRAAAAAAAAAAAAAAAAAAAAAAAAAAAAAAC5AAAAAAAAwcUAAAAAAAAAAAAAAAAAAABhAAAAAAAAAAAAAAAAAAAAkQAAAAAAAAAAAAAAAAAAAAAAAAAAAAAAAAAAAAAAAAAAAAAAAAACARUAAAAAAAOBvQAAAAAAAAFFAAAAAAAAAAAAAAAAAAAAcQAAAAAAAACBAAAAAAACAWkAAAAAAAIBIQAAAAAAAAAAAAAAAAAAAAAAAAAAAAAAAAAAAAAAAADBAAAAAAAAAHEAAAAAAAADwPwAAAAAAAPA/AAAAAACgbEAAAAAAAIBqQAAAAAAAAAAAAAAAAABgbEAAAAAAAAAAAAAAAAAAAAAAAAAAAAAAO0AAAAAAAAAAAAAAAAAAAAAAAAAAAADAWUAAAAAAAAA2QAAAAAAAAAAAAAAAAABgZUAAAAAAAAAYQAAAAAAAgEtAAAAAAAAAOkAAAAAAAAAAAAAAAAAA8HBAAAAAAAAAAAAAAAAAAAAAAAAAAAAAYGRAAAAAAADQcUAAAAAAAAA7QAAAAAAAwFJAAAAAAAAAAAAAAAAAAEBUQAAAAAAAgFRAAAAAAAAAAAAAAAAAAAA3QAAAAAAAAAAAAAAAAADAVkAAAAAAAAAAAAAAAAAAABBAAAAAAAAAAAAAAAAAAAAQQAAAAAAAgGZAAAAAAAAAAAAAAAAAAAAAAAAAAAAAAAAAAAAAAAAAAAAAAAAAAEBbQAAAAAAAAABAAAAAAAAAAAAAAAAAAABGQAAAAAAAAPA/AAAAAABAdkAAAAAAAAAAAAAAAAAAAEtAAAAAAAAAAEAAAAAAAADwPwAAAAAAAAAAAAAAAAAA8D8AAAAAAIBQQAAAAAAAAAAAAAAAAAAAFEAAAAAAAAAAAAAAAAAAADJAAAAAAABAUUAAAAAAAOBhQAAAAAAAAD9AAAAAAAAAQEAAAAAAAAAAQAAAAAAAAAAAAAAAAAAAAAAAAAAAAEBdQAAAAAAAAAAAAAAAAAAAAAAAAAAAAAAIQAAAAAAAAPA/AAAAAAAASEAAAAAAAAAAQAAAAAAAAAAAAAAAAAAAHEAAAAAAAIBFQAAAAAAAAAAAAAAAAAAAREAAAAAAAAAiQAAAAAAAwFBAAAAAAAAAAAAAAAAAAAAAAAAAAAAAAAAAAAAAAAAAAAAAAAAAAAAAAAAAAAAAAPA/AAAAAAAA8D8AAAAAAAAuQAAAAAAAAAAAAAAAAAAAHEAAAAAAAAAAAAAAAAAAAAAAAAAAAAAAAAAAAAAAAAAuQAAAAAAAAAAAAAAAAAAAAAAAAAAAAAAAAAAAAAAAACBAAAAAAAAAAAAAAAAAAAAAAAAAAAAAAFVAAAAAAACASEAAAAAAAAAAAAAAAAAAAAAAAAAAAAAAAAAAAAAAAAAAAAAAAAAAAAAAAAAAAAAAAAAAAAAAAAAIQAAAAAAAAAAAAAAAAABgYEAAAAAAAAAAAAAAAAAAAAAAAAAAAAAAAAAAAAAAAAAAAAAAAAAAAAAAAAAAAAAAAAAAAAAAAAAAAAAAAAAAAAAAAAAAAAAAAAAAAAAAAAAAAAAAAAAAAAAAAAAAAAAAREAAAAAAAIBEQAAAAAAAAAAAAAAAAAAACEAAAAAAAADwPwAAAAAAAAAAAAAAAABAVEAAAAAAAAAAAAAAAAAAAD1AAAAAAAAANUAAAAAAAAA9QAAAAAAAABRAAAAAAAAAAAAAAAAAAAAAAAAAAAAAAAAAAAAAAAAAAAAAAAAAAAAAAAAAAAAAAAAAAAAAAAAAAAAAAAAAAAAQQAAAAAAAAAAAAAAAAAAALEAAAAAAAAAAQAAAAAAAABBAAAAAAAAAAAAAAAAAAADwPwAAAAAAACpAAAAAAAAAJEAAAAAAAAAAAAAAAAAAAAAAAAAAAAAAAAAAAAAAAAAAAAAAAAAAADFAAAAAAAAAAAAAAAAAAAAAAAAAAAAAAAhAAAAAAAAAAAAAAAAAAAAAAAAAAAAAAAAAAAAAAAAAJkAAAAAAAAAAAAAAAAAAADRAAAAAAAAA8D8AAAAAAAAIQAAAAAAAAAAAAAAAAAAAAAAAAAAAAAAAAAAAAAAAAAAAAAAAAAAAAAAAAAAAAAAAAAAAAAAAAAAAAAAAAAAAJkAAAAAAAAAAAAAAAAAAwGFAAAAAAAAAAEAAAAAAAAAAAAAAAAAAAEJAAAAAAAAAAAAAAAAAAAAAQAAAAAAAAAAAAAAAAAAAAAAAAAAAAADwPwAAAAAAABBAAAAAAAAAAAAAAAAAAAAAAAAAAAAAAAAAAAAAAAAAAAAAAAAAAAAAAAAAAAAAABBAAAAAAAAAAEAAAAAAAAAAQAAAAAAAAPA/AAAAAAAAAAAAAAAAAAAiQAAAAAAAAC5AAAAAAAAA8D8AAAAAAAAAAAAAAAAAAABAAAAAAAAAAAAAAAAAAAAAAAAAAAAAAAAAAAAAAAAAAAAAAAAAAAAAAAAAAAAAAAAAAAAAAAAAAAAAAAAAAAAAAAAAAAAAAAAAAAAAAAAAAAAAAAAAAAAAAAAAAAAAAPA/AAAAAAAAAAAAAAAAAAAAAAAAAAAAAAAAAAAAAAAAPEAAAAAAAAAAAAAAAAAAAPA/AAAAAAAAAAAAAAAAAAAAAAAAAAAAAPA/AAAAAAAAAAAAAAAAAAAAAAAAAAAAAAAAAAAAAAAAAAAAAAAAAAAAAAAAAAAAAAAAAAAAAAAA8D8AAAAAAAAAAAAAAAAAAAAAAAAAAAAAAAAAAAAAAAAAAAAAAAAAAChAAAAAAAAAAAAAAAAAAAAAAAAAAAAAAAAAAAAAAAAAAAAAAAAAAAAAAAAAAAAAAAAAAAAAAAAA8D8AAAAAAAAQQAAAAAAAADJAAAAAAAAAAAAAAAAAAAAAAAAAAAAAAAAAAAAAAAAAAAAAAAAAAAAAAAAAAAAAAPA/AAAAAAAAAAAAAAAAAAAAAAAAAAAAAAAAAAAAAAAAAAAAAAAAAAAAAAAAAAAAAAAAAAAAAAAAAAAAAAAAAAAAAAAAAAAAAABAAAAAAAAAAAAAAAAAAAAAAAAAAAAAAAAAAAAAAAAAAAAAAAAAAAAAAAAAAAAAAABAAAAAAAAAAAAAAAAAAAAAAAAAAAAAAAAAAAAAAAAAUEAAAAAAAAAAAAAAAAAAAAAAAAAAAAAAGEAAAAAAAAAAAAAAAAAAAAAAAAAAAAAAGEAAAAAAAAAAAAAAAAAAAAAAAAAAAABAUkAAAAAAAAAAAAAAAAAAABhAAAAAAAAAAAAAAAAAAAAAAAAAAAAAAD5AAAAAAAAAAAAAAAAAAAAAAAAAAAAAAAAAAAAAAAAAFEAAAAAAAAAAAAAAAAAAAAAAAAAAAAAAAAAAAAAAAAAAAAAAAAAAAAAAAAAAAAAAAAAAAAAAAIBLQAAAAAAAADNAAAAAAAAAAAAAAAAAAAAAAAAAAAAAAAAAAAAAAAAAAAAAAAAAAAAAAAAAAAAAABBAAAAAAAAAAAAAAAAAAADwPwAAAAAAAAAAAAAAAAAAAAAAAAAAAAAAAAAAAAAAAAAAAAAAAAAAJkAAAAAAAAAAAAAAAAAAAAAAAAAAAAAAAAAAAAAAAAAAAAAAAAAAAAAAAAAAAAAAAAAAAAAAAAAAAAAAAAAAAAAAAAAAAAAA8D8AAAAAAAAAAAAAAAAAAAAAAAAAAAAAJkAAAAAAAAAAAAAAAAAAAAAAAAAAAAAAAAAAAAAAAAAAAAAAAAAAAAAAAAAAAAAAAAAAAAAAAAAQQAAAAAAAAAAAAAAAAAAAAAAAAAAAAAAAAAAAAAAAAAAAAAAAAAAAAAAAAAAAAADwPwAAAAAAAAAAAAAAAAAAAAAAAAAAAAAAAAAAAAAAAAAAAAAAAAAAAAAAAAAAAAAuQAAAAAAAAAAAAAAAAAAAAAAAAAAAAAAAAAAAAAAAAAAAAAAAAAAAAAAAAAAAAAAAAAAAAAAAAAAAAAAAAAAAAAAAAAAAAAAAAAAAAAAAAAAAAAAAAAAAAAAAAAAAAAAAAAAAAAAAAAAAAAAAAAAAAAAAAAAAAAAAAAAAAAAAAAAAAAAAAAAAIkAAAAAAAAAAAAAAAAAAAAAAAAAAAAAAGEAAAAAAAAAYQAAAAAAAAABAAAAAAAAAAAAAAAAAAAAAAAAAAAAAAAAAAAAAAAAAAAAAAAAAAAAAAAAAAAAAAAAAAAAAAAAAAAAAAAAAAAAAAAAAAAAAAAAAAAAAAAAAAAAAAAAAAAAAAAAAAAAAAAAAAAAAAAAAAAAAAAAAAAAAAAAAAAAAAPA/AAAAAAAAHEAAAAAAAAAAAAAAAAAAAAAAAAAAAAAA8D8AAAAAAAAAAAAAAAAAAAAAAAAAAAAAAAAAAAAAAAAAAAAAAAAAAAAAAAAAAAAALEAAAAAAAAAAAAAAAAAAAPA/AAAAAAAAAAAAAAAAAAAAAAAAAAAAACZAAAAAAAAAAAAAAAAAAAA0QAAAAAAAAAAAAAAAAAAAAAAAAAAAAAAAAAAAAAAAABBAAAAAAAAAAAAAAAAAAAAYQAAAAAAAADFAAAAAAAAA8D8AAAAAAAAAAAAAAAAAQFJAAAAAAAAAAAAAAAAAAAAAAAAAAAAAAAhAAAAAAAAAAAAAAAAAAAAAAAAAAAAAAAAAAAAAAAAANUAAAAAAAAA1QAAAAAAAAEBAAAAAAAAAAEAAAAAAAAAAAAAAAAAAAAAAAAAAAAAAAAAAAAAAAAAAAAAAAAAAAAAAAAAAAAAAAAAAAAAAAAAIQAAAAAAAAAAAAAAAAAAAAEAAAAAAAAAAAAAAAAAAAAhAAAAAAAAAFEAAAAAAAAAgQAAAAAAAAAAAAAAAAAAAAAAAAAAAAAAAAAAAAAAAAAAAAAAAAAAA8D8AAAAAAAAAAAAAAAAAAAAAAAAAAAAAAAAAAAAAAAAAAAAAAAAAAAAAAAAAAAAACEAAAAAAAAAAAAAAAAAAAAAAAAAAAAAAIkAAAAAAAAAAAAAAAAAAAABAAAAAAAAAAAAAAAAAAAAxQAAAAAAAAD1AAAAAAAAAAAAAAAAAAAAAQAAAAAAAAEpAAAAAAAAAAAAAAAAAAAAAAAAAAAAAAAAAAAAAAAAAAAAAAAAAAABHQAAAAAAAAC5AAAAAAAAACEAAAAAAAAAkQAAAAAAAgE9AAAAAAAAANEAAAAAAAAA5QAAAAAAAABBAAAAAAAAAIEAAAAAAAAAAAAAAAAAAAPA/AAAAAAAAAAAAAAAAAAA1QAAAAAAAAFlAAAAAAAAAAAAAAAAAAAAzQAAAAAAAAAhAAAAAAAAAAAAAAAAAAAAcQAAAAAAAAE5AAAAAAAAAIkAAAAAAAAAmQAAAAAAAQFBAAAAAAAAAAAAAAAAAAABBQAAAAAAAAAhAAAAAAACASEAAAAAAAAAAAAAAAAAAwFhAAAAAAAAAKkAAAAAAAAAiQAAAAAAAAD9AAAAAAACAckAAAAAAAJBzQAAAAAAAgGRAAAAAAACQdEAAAAAAAAA3QAAAAAAAACxAAAAAAAAAR0AAAAAAAAAmQAAAAAAAAE1AAAAAAAAARkAAAAAAAEBfQAAAAAAA8HBAAAAAAAAAIEAAAAAAAKBjQAAAAAAAQGBAAAAAAADweEAAAAAAAEBrQAAAAAAAoGpAAAAAAACAY0AAAAAAACB1QAAAAAAAwFBAAAAAAAAAHEAAAAAAAJB3QA==",
          "dtype": "f8"
         },
         "yaxis": "y"
        }
       ],
       "layout": {
        "barmode": "relative",
        "legend": {
         "tracegroupgap": 0
        },
        "template": {
         "data": {
          "bar": [
           {
            "error_x": {
             "color": "#2a3f5f"
            },
            "error_y": {
             "color": "#2a3f5f"
            },
            "marker": {
             "line": {
              "color": "#E5ECF6",
              "width": 0.5
             },
             "pattern": {
              "fillmode": "overlay",
              "size": 10,
              "solidity": 0.2
             }
            },
            "type": "bar"
           }
          ],
          "barpolar": [
           {
            "marker": {
             "line": {
              "color": "#E5ECF6",
              "width": 0.5
             },
             "pattern": {
              "fillmode": "overlay",
              "size": 10,
              "solidity": 0.2
             }
            },
            "type": "barpolar"
           }
          ],
          "carpet": [
           {
            "aaxis": {
             "endlinecolor": "#2a3f5f",
             "gridcolor": "white",
             "linecolor": "white",
             "minorgridcolor": "white",
             "startlinecolor": "#2a3f5f"
            },
            "baxis": {
             "endlinecolor": "#2a3f5f",
             "gridcolor": "white",
             "linecolor": "white",
             "minorgridcolor": "white",
             "startlinecolor": "#2a3f5f"
            },
            "type": "carpet"
           }
          ],
          "choropleth": [
           {
            "colorbar": {
             "outlinewidth": 0,
             "ticks": ""
            },
            "type": "choropleth"
           }
          ],
          "contour": [
           {
            "colorbar": {
             "outlinewidth": 0,
             "ticks": ""
            },
            "colorscale": [
             [
              0,
              "#0d0887"
             ],
             [
              0.1111111111111111,
              "#46039f"
             ],
             [
              0.2222222222222222,
              "#7201a8"
             ],
             [
              0.3333333333333333,
              "#9c179e"
             ],
             [
              0.4444444444444444,
              "#bd3786"
             ],
             [
              0.5555555555555556,
              "#d8576b"
             ],
             [
              0.6666666666666666,
              "#ed7953"
             ],
             [
              0.7777777777777778,
              "#fb9f3a"
             ],
             [
              0.8888888888888888,
              "#fdca26"
             ],
             [
              1,
              "#f0f921"
             ]
            ],
            "type": "contour"
           }
          ],
          "contourcarpet": [
           {
            "colorbar": {
             "outlinewidth": 0,
             "ticks": ""
            },
            "type": "contourcarpet"
           }
          ],
          "heatmap": [
           {
            "colorbar": {
             "outlinewidth": 0,
             "ticks": ""
            },
            "colorscale": [
             [
              0,
              "#0d0887"
             ],
             [
              0.1111111111111111,
              "#46039f"
             ],
             [
              0.2222222222222222,
              "#7201a8"
             ],
             [
              0.3333333333333333,
              "#9c179e"
             ],
             [
              0.4444444444444444,
              "#bd3786"
             ],
             [
              0.5555555555555556,
              "#d8576b"
             ],
             [
              0.6666666666666666,
              "#ed7953"
             ],
             [
              0.7777777777777778,
              "#fb9f3a"
             ],
             [
              0.8888888888888888,
              "#fdca26"
             ],
             [
              1,
              "#f0f921"
             ]
            ],
            "type": "heatmap"
           }
          ],
          "histogram": [
           {
            "marker": {
             "pattern": {
              "fillmode": "overlay",
              "size": 10,
              "solidity": 0.2
             }
            },
            "type": "histogram"
           }
          ],
          "histogram2d": [
           {
            "colorbar": {
             "outlinewidth": 0,
             "ticks": ""
            },
            "colorscale": [
             [
              0,
              "#0d0887"
             ],
             [
              0.1111111111111111,
              "#46039f"
             ],
             [
              0.2222222222222222,
              "#7201a8"
             ],
             [
              0.3333333333333333,
              "#9c179e"
             ],
             [
              0.4444444444444444,
              "#bd3786"
             ],
             [
              0.5555555555555556,
              "#d8576b"
             ],
             [
              0.6666666666666666,
              "#ed7953"
             ],
             [
              0.7777777777777778,
              "#fb9f3a"
             ],
             [
              0.8888888888888888,
              "#fdca26"
             ],
             [
              1,
              "#f0f921"
             ]
            ],
            "type": "histogram2d"
           }
          ],
          "histogram2dcontour": [
           {
            "colorbar": {
             "outlinewidth": 0,
             "ticks": ""
            },
            "colorscale": [
             [
              0,
              "#0d0887"
             ],
             [
              0.1111111111111111,
              "#46039f"
             ],
             [
              0.2222222222222222,
              "#7201a8"
             ],
             [
              0.3333333333333333,
              "#9c179e"
             ],
             [
              0.4444444444444444,
              "#bd3786"
             ],
             [
              0.5555555555555556,
              "#d8576b"
             ],
             [
              0.6666666666666666,
              "#ed7953"
             ],
             [
              0.7777777777777778,
              "#fb9f3a"
             ],
             [
              0.8888888888888888,
              "#fdca26"
             ],
             [
              1,
              "#f0f921"
             ]
            ],
            "type": "histogram2dcontour"
           }
          ],
          "mesh3d": [
           {
            "colorbar": {
             "outlinewidth": 0,
             "ticks": ""
            },
            "type": "mesh3d"
           }
          ],
          "parcoords": [
           {
            "line": {
             "colorbar": {
              "outlinewidth": 0,
              "ticks": ""
             }
            },
            "type": "parcoords"
           }
          ],
          "pie": [
           {
            "automargin": true,
            "type": "pie"
           }
          ],
          "scatter": [
           {
            "fillpattern": {
             "fillmode": "overlay",
             "size": 10,
             "solidity": 0.2
            },
            "type": "scatter"
           }
          ],
          "scatter3d": [
           {
            "line": {
             "colorbar": {
              "outlinewidth": 0,
              "ticks": ""
             }
            },
            "marker": {
             "colorbar": {
              "outlinewidth": 0,
              "ticks": ""
             }
            },
            "type": "scatter3d"
           }
          ],
          "scattercarpet": [
           {
            "marker": {
             "colorbar": {
              "outlinewidth": 0,
              "ticks": ""
             }
            },
            "type": "scattercarpet"
           }
          ],
          "scattergeo": [
           {
            "marker": {
             "colorbar": {
              "outlinewidth": 0,
              "ticks": ""
             }
            },
            "type": "scattergeo"
           }
          ],
          "scattergl": [
           {
            "marker": {
             "colorbar": {
              "outlinewidth": 0,
              "ticks": ""
             }
            },
            "type": "scattergl"
           }
          ],
          "scattermap": [
           {
            "marker": {
             "colorbar": {
              "outlinewidth": 0,
              "ticks": ""
             }
            },
            "type": "scattermap"
           }
          ],
          "scattermapbox": [
           {
            "marker": {
             "colorbar": {
              "outlinewidth": 0,
              "ticks": ""
             }
            },
            "type": "scattermapbox"
           }
          ],
          "scatterpolar": [
           {
            "marker": {
             "colorbar": {
              "outlinewidth": 0,
              "ticks": ""
             }
            },
            "type": "scatterpolar"
           }
          ],
          "scatterpolargl": [
           {
            "marker": {
             "colorbar": {
              "outlinewidth": 0,
              "ticks": ""
             }
            },
            "type": "scatterpolargl"
           }
          ],
          "scatterternary": [
           {
            "marker": {
             "colorbar": {
              "outlinewidth": 0,
              "ticks": ""
             }
            },
            "type": "scatterternary"
           }
          ],
          "surface": [
           {
            "colorbar": {
             "outlinewidth": 0,
             "ticks": ""
            },
            "colorscale": [
             [
              0,
              "#0d0887"
             ],
             [
              0.1111111111111111,
              "#46039f"
             ],
             [
              0.2222222222222222,
              "#7201a8"
             ],
             [
              0.3333333333333333,
              "#9c179e"
             ],
             [
              0.4444444444444444,
              "#bd3786"
             ],
             [
              0.5555555555555556,
              "#d8576b"
             ],
             [
              0.6666666666666666,
              "#ed7953"
             ],
             [
              0.7777777777777778,
              "#fb9f3a"
             ],
             [
              0.8888888888888888,
              "#fdca26"
             ],
             [
              1,
              "#f0f921"
             ]
            ],
            "type": "surface"
           }
          ],
          "table": [
           {
            "cells": {
             "fill": {
              "color": "#EBF0F8"
             },
             "line": {
              "color": "white"
             }
            },
            "header": {
             "fill": {
              "color": "#C8D4E3"
             },
             "line": {
              "color": "white"
             }
            },
            "type": "table"
           }
          ]
         },
         "layout": {
          "annotationdefaults": {
           "arrowcolor": "#2a3f5f",
           "arrowhead": 0,
           "arrowwidth": 1
          },
          "autotypenumbers": "strict",
          "coloraxis": {
           "colorbar": {
            "outlinewidth": 0,
            "ticks": ""
           }
          },
          "colorscale": {
           "diverging": [
            [
             0,
             "#8e0152"
            ],
            [
             0.1,
             "#c51b7d"
            ],
            [
             0.2,
             "#de77ae"
            ],
            [
             0.3,
             "#f1b6da"
            ],
            [
             0.4,
             "#fde0ef"
            ],
            [
             0.5,
             "#f7f7f7"
            ],
            [
             0.6,
             "#e6f5d0"
            ],
            [
             0.7,
             "#b8e186"
            ],
            [
             0.8,
             "#7fbc41"
            ],
            [
             0.9,
             "#4d9221"
            ],
            [
             1,
             "#276419"
            ]
           ],
           "sequential": [
            [
             0,
             "#0d0887"
            ],
            [
             0.1111111111111111,
             "#46039f"
            ],
            [
             0.2222222222222222,
             "#7201a8"
            ],
            [
             0.3333333333333333,
             "#9c179e"
            ],
            [
             0.4444444444444444,
             "#bd3786"
            ],
            [
             0.5555555555555556,
             "#d8576b"
            ],
            [
             0.6666666666666666,
             "#ed7953"
            ],
            [
             0.7777777777777778,
             "#fb9f3a"
            ],
            [
             0.8888888888888888,
             "#fdca26"
            ],
            [
             1,
             "#f0f921"
            ]
           ],
           "sequentialminus": [
            [
             0,
             "#0d0887"
            ],
            [
             0.1111111111111111,
             "#46039f"
            ],
            [
             0.2222222222222222,
             "#7201a8"
            ],
            [
             0.3333333333333333,
             "#9c179e"
            ],
            [
             0.4444444444444444,
             "#bd3786"
            ],
            [
             0.5555555555555556,
             "#d8576b"
            ],
            [
             0.6666666666666666,
             "#ed7953"
            ],
            [
             0.7777777777777778,
             "#fb9f3a"
            ],
            [
             0.8888888888888888,
             "#fdca26"
            ],
            [
             1,
             "#f0f921"
            ]
           ]
          },
          "colorway": [
           "#636efa",
           "#EF553B",
           "#00cc96",
           "#ab63fa",
           "#FFA15A",
           "#19d3f3",
           "#FF6692",
           "#B6E880",
           "#FF97FF",
           "#FECB52"
          ],
          "font": {
           "color": "#2a3f5f"
          },
          "geo": {
           "bgcolor": "white",
           "lakecolor": "white",
           "landcolor": "#E5ECF6",
           "showlakes": true,
           "showland": true,
           "subunitcolor": "white"
          },
          "hoverlabel": {
           "align": "left"
          },
          "hovermode": "closest",
          "mapbox": {
           "style": "light"
          },
          "paper_bgcolor": "white",
          "plot_bgcolor": "#E5ECF6",
          "polar": {
           "angularaxis": {
            "gridcolor": "white",
            "linecolor": "white",
            "ticks": ""
           },
           "bgcolor": "#E5ECF6",
           "radialaxis": {
            "gridcolor": "white",
            "linecolor": "white",
            "ticks": ""
           }
          },
          "scene": {
           "xaxis": {
            "backgroundcolor": "#E5ECF6",
            "gridcolor": "white",
            "gridwidth": 2,
            "linecolor": "white",
            "showbackground": true,
            "ticks": "",
            "zerolinecolor": "white"
           },
           "yaxis": {
            "backgroundcolor": "#E5ECF6",
            "gridcolor": "white",
            "gridwidth": 2,
            "linecolor": "white",
            "showbackground": true,
            "ticks": "",
            "zerolinecolor": "white"
           },
           "zaxis": {
            "backgroundcolor": "#E5ECF6",
            "gridcolor": "white",
            "gridwidth": 2,
            "linecolor": "white",
            "showbackground": true,
            "ticks": "",
            "zerolinecolor": "white"
           }
          },
          "shapedefaults": {
           "line": {
            "color": "#2a3f5f"
           }
          },
          "ternary": {
           "aaxis": {
            "gridcolor": "white",
            "linecolor": "white",
            "ticks": ""
           },
           "baxis": {
            "gridcolor": "white",
            "linecolor": "white",
            "ticks": ""
           },
           "bgcolor": "#E5ECF6",
           "caxis": {
            "gridcolor": "white",
            "linecolor": "white",
            "ticks": ""
           }
          },
          "title": {
           "x": 0.05
          },
          "xaxis": {
           "automargin": true,
           "gridcolor": "white",
           "linecolor": "white",
           "ticks": "",
           "title": {
            "standoff": 15
           },
           "zerolinecolor": "white",
           "zerolinewidth": 2
          },
          "yaxis": {
           "automargin": true,
           "gridcolor": "white",
           "linecolor": "white",
           "ticks": "",
           "title": {
            "standoff": 15
           },
           "zerolinecolor": "white",
           "zerolinewidth": 2
          }
         }
        },
        "title": {
         "text": "Frequency of Wavelengths"
        },
        "xaxis": {
         "anchor": "y",
         "domain": [
          0,
          1
         ],
         "title": {
          "text": "Wavelengths"
         }
        },
        "yaxis": {
         "anchor": "x",
         "domain": [
          0,
          1
         ],
         "title": {
          "text": "sum of count"
         }
        }
       }
      }
     },
     "metadata": {},
     "output_type": "display_data"
    }
   ],
   "source": [
    "c.plot_frequency(separation=50)"
   ]
  },
  {
   "cell_type": "code",
   "execution_count": null,
   "metadata": {},
   "outputs": [],
   "source": []
  },
  {
   "cell_type": "code",
   "execution_count": 4,
   "metadata": {},
   "outputs": [
    {
     "data": {
      "application/vnd.plotly.v1+json": {
       "config": {
        "plotlyServerURL": "https://plot.ly"
       },
       "data": [
        {
         "hovertemplate": "<b>%{hovertext}</b><br><br>Iteration=%{x}<br>Accuracy=%{y}<extra></extra>",
         "hovertext": [
          "949.698",
          "949.698",
          "949.698",
          "949.698",
          "949.698",
          "949.698",
          "949.698",
          "949.698",
          "949.698",
          "949.698",
          "949.698",
          "949.698",
          "949.698",
          "949.698",
          "949.698",
          "949.698",
          "949.698",
          "949.698",
          "949.698",
          "949.698",
          "949.698",
          "949.698",
          "505.164 - 949.698",
          "505.164 - 949.698",
          "504.19 - 505.164 - 949.698",
          "504.19 - 505.164 - 948.534 - 949.698",
          "504.19 - 505.164 - 948.534 - 949.698",
          "504.19 - 505.164 - 948.534 - 949.698",
          "504.19 - 505.164 - 948.534 - 949.698",
          "504.19 - 505.164 - 948.534 - 949.698",
          "504.19 - 505.164 - 948.534 - 949.698",
          "499.31 - 504.19 - 505.164 - 948.534 - 949.698",
          "499.31 - 504.19 - 505.164 - 948.534 - 949.698",
          "499.31 - 504.19 - 505.164 - 948.534 - 949.698",
          "499.31 - 504.19 - 505.164 - 948.534 - 949.698",
          "499.31 - 504.19 - 505.164 - 948.534 - 949.698",
          "499.31 - 504.19 - 505.164 - 942.315 - 948.534 - 949.698",
          "499.31 - 504.19 - 505.164 - 942.315 - 948.534 - 949.698",
          "499.31 - 504.19 - 505.164 - 688.856 - 747.711 - 942.315 - 948.534 - 949.698",
          "499.31 - 503.215 - 504.19 - 505.164 - 688.856 - 747.711 - 942.315 - 948.534 - 949.698",
          "499.31 - 503.215 - 504.19 - 505.164 - 688.856 - 747.711 - 942.315 - 948.534 - 949.698",
          "499.31 - 503.215 - 504.19 - 505.164 - 688.856 - 747.711 - 942.315 - 948.534 - 949.698",
          "499.31 - 503.215 - 504.19 - 505.164 - 506.139 - 688.856 - 747.711 - 942.315 - 948.534 - 949.698",
          "11 wavelengths",
          "11 wavelengths",
          "12 wavelengths",
          "12 wavelengths",
          "13 wavelengths",
          "14 wavelengths",
          "14 wavelengths",
          "16 wavelengths",
          "18 wavelengths",
          "18 wavelengths",
          "19 wavelengths",
          "21 wavelengths",
          "22 wavelengths",
          "22 wavelengths",
          "24 wavelengths",
          "24 wavelengths",
          "25 wavelengths",
          "27 wavelengths",
          "28 wavelengths",
          "29 wavelengths",
          "31 wavelengths",
          "33 wavelengths",
          "36 wavelengths",
          "37 wavelengths",
          "39 wavelengths",
          "41 wavelengths",
          "45 wavelengths",
          "48 wavelengths",
          "52 wavelengths",
          "54 wavelengths",
          "61 wavelengths",
          "64 wavelengths",
          "68 wavelengths",
          "69 wavelengths",
          "75 wavelengths",
          "77 wavelengths",
          "82 wavelengths",
          "89 wavelengths",
          "96 wavelengths",
          "103 wavelengths",
          "104 wavelengths",
          "112 wavelengths",
          "116 wavelengths",
          "120 wavelengths",
          "130 wavelengths",
          "142 wavelengths",
          "153 wavelengths",
          "163 wavelengths",
          "167 wavelengths",
          "187 wavelengths",
          "200 wavelengths",
          "213 wavelengths",
          "246 wavelengths",
          "273 wavelengths",
          "335 wavelengths",
          "416 wavelengths",
          "583 wavelengths"
         ],
         "legendgroup": "",
         "line": {
          "color": "#636efa",
          "dash": "solid"
         },
         "marker": {
          "symbol": "circle"
         },
         "mode": "lines",
         "name": "",
         "orientation": "v",
         "showlegend": false,
         "type": "scatter",
         "x": [
          100,
          99,
          98,
          97,
          96,
          95,
          94,
          93,
          92,
          91,
          90,
          89,
          88,
          87,
          86,
          85,
          84,
          83,
          82,
          81,
          80,
          79,
          78,
          77,
          76,
          75,
          74,
          73,
          72,
          71,
          70,
          69,
          68,
          67,
          66,
          65,
          64,
          63,
          62,
          61,
          60,
          59,
          58,
          57,
          56,
          55,
          54,
          53,
          52,
          51,
          50,
          49,
          48,
          47,
          46,
          45,
          44,
          43,
          42,
          41,
          40,
          39,
          38,
          37,
          36,
          35,
          34,
          33,
          32,
          31,
          30,
          29,
          28,
          27,
          26,
          25,
          24,
          23,
          22,
          21,
          20,
          19,
          18,
          17,
          16,
          15,
          14,
          13,
          12,
          11,
          10,
          9,
          8,
          7,
          6,
          5,
          4,
          3,
          2,
          1
         ],
         "xaxis": "x",
         "y": {
          "bdata": "SP68yuKM5j9I/rzK4ozmP0j+vMrijOY/SP68yuKM5j9I/rzK4ozmP0j+vMrijOY/SP68yuKM5j9I/rzK4ozmP0j+vMrijOY/SP68yuKM5j9I/rzK4ozmP0j+vMrijOY/SP68yuKM5j9I/rzK4ozmP0j+vMrijOY/SP68yuKM5j9I/rzK4ozmP0j+vMrijOY/SP68yuKM5j9I/rzK4ozmP0j+vMrijOY/SP68yuKM5j99GzBU0zHnP30bMFTTMec/6FUWZ7R76D9PCpI/r7LoP08Kkj+vsug/TwqSP6+y6D9PCpI/r7LoP08Kkj+vsug/TwqSP6+y6D8kf15lcUbrPyR/XmVxRus/JH9eZXFG6z8kf15lcUbrPyR/XmVxRus/72Hr24Ch6j/vYevbgKHqP73K4ox2D+s/vcrijHYP6z+9yuKMdg/rP73K4ox2D+s/vcrijHYP6z+IrW8DhmrqP4itbwOGauo/VhZntHvY6j9WFme0e9jqPyH58yqLM+o/IfnzKosz6j8h+fMqizPqP73K4ox2D+s/VhZntHvY6j9WFme0e9jqP1YWZ7R72Oo/iK1vA4Zq6j/vYevbgKHqP+9h69uAoeo/IfnzKosz6j8h+fMqizPqPyH58yqLM+o/72Hr24Ch6j+IrW8DhmrqP+9h69uAoeo/iK1vA4Zq6j+IrW8DhmrqP4itbwOGauo/iK1vA4Zq6j/vYevbgKHqP4itbwOGauo/iK1vA4Zq6j+IrW8DhmrqP+9h69uAoeo/iK1vA4Zq6j/vYevbgKHqP+9h69uAoeo/72Hr24Ch6j/vYevbgKHqP4itbwOGauo/iK1vA4Zq6j/vYevbgKHqP+9h69uAoeo/VhZntHvY6j/vYevbgKHqP+9h69uAoeo/iK1vA4Zq6j/vYevbgKHqP4itbwOGauo/iK1vA4Zq6j/vYevbgKHqP+9h69uAoeo/VhZntHvY6j/vYevbgKHqP+9h69uAoeo/72Hr24Ch6j9WFme0e9jqP1YWZ7R72Oo/iK1vA4Zq6j9PCpI/r7LoP08Kkj+vsug/tr4NGKrp6D8=",
          "dtype": "f8"
         },
         "yaxis": "y"
        }
       ],
       "layout": {
        "legend": {
         "tracegroupgap": 0
        },
        "template": {
         "data": {
          "bar": [
           {
            "error_x": {
             "color": "#2a3f5f"
            },
            "error_y": {
             "color": "#2a3f5f"
            },
            "marker": {
             "line": {
              "color": "#E5ECF6",
              "width": 0.5
             },
             "pattern": {
              "fillmode": "overlay",
              "size": 10,
              "solidity": 0.2
             }
            },
            "type": "bar"
           }
          ],
          "barpolar": [
           {
            "marker": {
             "line": {
              "color": "#E5ECF6",
              "width": 0.5
             },
             "pattern": {
              "fillmode": "overlay",
              "size": 10,
              "solidity": 0.2
             }
            },
            "type": "barpolar"
           }
          ],
          "carpet": [
           {
            "aaxis": {
             "endlinecolor": "#2a3f5f",
             "gridcolor": "white",
             "linecolor": "white",
             "minorgridcolor": "white",
             "startlinecolor": "#2a3f5f"
            },
            "baxis": {
             "endlinecolor": "#2a3f5f",
             "gridcolor": "white",
             "linecolor": "white",
             "minorgridcolor": "white",
             "startlinecolor": "#2a3f5f"
            },
            "type": "carpet"
           }
          ],
          "choropleth": [
           {
            "colorbar": {
             "outlinewidth": 0,
             "ticks": ""
            },
            "type": "choropleth"
           }
          ],
          "contour": [
           {
            "colorbar": {
             "outlinewidth": 0,
             "ticks": ""
            },
            "colorscale": [
             [
              0,
              "#0d0887"
             ],
             [
              0.1111111111111111,
              "#46039f"
             ],
             [
              0.2222222222222222,
              "#7201a8"
             ],
             [
              0.3333333333333333,
              "#9c179e"
             ],
             [
              0.4444444444444444,
              "#bd3786"
             ],
             [
              0.5555555555555556,
              "#d8576b"
             ],
             [
              0.6666666666666666,
              "#ed7953"
             ],
             [
              0.7777777777777778,
              "#fb9f3a"
             ],
             [
              0.8888888888888888,
              "#fdca26"
             ],
             [
              1,
              "#f0f921"
             ]
            ],
            "type": "contour"
           }
          ],
          "contourcarpet": [
           {
            "colorbar": {
             "outlinewidth": 0,
             "ticks": ""
            },
            "type": "contourcarpet"
           }
          ],
          "heatmap": [
           {
            "colorbar": {
             "outlinewidth": 0,
             "ticks": ""
            },
            "colorscale": [
             [
              0,
              "#0d0887"
             ],
             [
              0.1111111111111111,
              "#46039f"
             ],
             [
              0.2222222222222222,
              "#7201a8"
             ],
             [
              0.3333333333333333,
              "#9c179e"
             ],
             [
              0.4444444444444444,
              "#bd3786"
             ],
             [
              0.5555555555555556,
              "#d8576b"
             ],
             [
              0.6666666666666666,
              "#ed7953"
             ],
             [
              0.7777777777777778,
              "#fb9f3a"
             ],
             [
              0.8888888888888888,
              "#fdca26"
             ],
             [
              1,
              "#f0f921"
             ]
            ],
            "type": "heatmap"
           }
          ],
          "histogram": [
           {
            "marker": {
             "pattern": {
              "fillmode": "overlay",
              "size": 10,
              "solidity": 0.2
             }
            },
            "type": "histogram"
           }
          ],
          "histogram2d": [
           {
            "colorbar": {
             "outlinewidth": 0,
             "ticks": ""
            },
            "colorscale": [
             [
              0,
              "#0d0887"
             ],
             [
              0.1111111111111111,
              "#46039f"
             ],
             [
              0.2222222222222222,
              "#7201a8"
             ],
             [
              0.3333333333333333,
              "#9c179e"
             ],
             [
              0.4444444444444444,
              "#bd3786"
             ],
             [
              0.5555555555555556,
              "#d8576b"
             ],
             [
              0.6666666666666666,
              "#ed7953"
             ],
             [
              0.7777777777777778,
              "#fb9f3a"
             ],
             [
              0.8888888888888888,
              "#fdca26"
             ],
             [
              1,
              "#f0f921"
             ]
            ],
            "type": "histogram2d"
           }
          ],
          "histogram2dcontour": [
           {
            "colorbar": {
             "outlinewidth": 0,
             "ticks": ""
            },
            "colorscale": [
             [
              0,
              "#0d0887"
             ],
             [
              0.1111111111111111,
              "#46039f"
             ],
             [
              0.2222222222222222,
              "#7201a8"
             ],
             [
              0.3333333333333333,
              "#9c179e"
             ],
             [
              0.4444444444444444,
              "#bd3786"
             ],
             [
              0.5555555555555556,
              "#d8576b"
             ],
             [
              0.6666666666666666,
              "#ed7953"
             ],
             [
              0.7777777777777778,
              "#fb9f3a"
             ],
             [
              0.8888888888888888,
              "#fdca26"
             ],
             [
              1,
              "#f0f921"
             ]
            ],
            "type": "histogram2dcontour"
           }
          ],
          "mesh3d": [
           {
            "colorbar": {
             "outlinewidth": 0,
             "ticks": ""
            },
            "type": "mesh3d"
           }
          ],
          "parcoords": [
           {
            "line": {
             "colorbar": {
              "outlinewidth": 0,
              "ticks": ""
             }
            },
            "type": "parcoords"
           }
          ],
          "pie": [
           {
            "automargin": true,
            "type": "pie"
           }
          ],
          "scatter": [
           {
            "fillpattern": {
             "fillmode": "overlay",
             "size": 10,
             "solidity": 0.2
            },
            "type": "scatter"
           }
          ],
          "scatter3d": [
           {
            "line": {
             "colorbar": {
              "outlinewidth": 0,
              "ticks": ""
             }
            },
            "marker": {
             "colorbar": {
              "outlinewidth": 0,
              "ticks": ""
             }
            },
            "type": "scatter3d"
           }
          ],
          "scattercarpet": [
           {
            "marker": {
             "colorbar": {
              "outlinewidth": 0,
              "ticks": ""
             }
            },
            "type": "scattercarpet"
           }
          ],
          "scattergeo": [
           {
            "marker": {
             "colorbar": {
              "outlinewidth": 0,
              "ticks": ""
             }
            },
            "type": "scattergeo"
           }
          ],
          "scattergl": [
           {
            "marker": {
             "colorbar": {
              "outlinewidth": 0,
              "ticks": ""
             }
            },
            "type": "scattergl"
           }
          ],
          "scattermap": [
           {
            "marker": {
             "colorbar": {
              "outlinewidth": 0,
              "ticks": ""
             }
            },
            "type": "scattermap"
           }
          ],
          "scattermapbox": [
           {
            "marker": {
             "colorbar": {
              "outlinewidth": 0,
              "ticks": ""
             }
            },
            "type": "scattermapbox"
           }
          ],
          "scatterpolar": [
           {
            "marker": {
             "colorbar": {
              "outlinewidth": 0,
              "ticks": ""
             }
            },
            "type": "scatterpolar"
           }
          ],
          "scatterpolargl": [
           {
            "marker": {
             "colorbar": {
              "outlinewidth": 0,
              "ticks": ""
             }
            },
            "type": "scatterpolargl"
           }
          ],
          "scatterternary": [
           {
            "marker": {
             "colorbar": {
              "outlinewidth": 0,
              "ticks": ""
             }
            },
            "type": "scatterternary"
           }
          ],
          "surface": [
           {
            "colorbar": {
             "outlinewidth": 0,
             "ticks": ""
            },
            "colorscale": [
             [
              0,
              "#0d0887"
             ],
             [
              0.1111111111111111,
              "#46039f"
             ],
             [
              0.2222222222222222,
              "#7201a8"
             ],
             [
              0.3333333333333333,
              "#9c179e"
             ],
             [
              0.4444444444444444,
              "#bd3786"
             ],
             [
              0.5555555555555556,
              "#d8576b"
             ],
             [
              0.6666666666666666,
              "#ed7953"
             ],
             [
              0.7777777777777778,
              "#fb9f3a"
             ],
             [
              0.8888888888888888,
              "#fdca26"
             ],
             [
              1,
              "#f0f921"
             ]
            ],
            "type": "surface"
           }
          ],
          "table": [
           {
            "cells": {
             "fill": {
              "color": "#EBF0F8"
             },
             "line": {
              "color": "white"
             }
            },
            "header": {
             "fill": {
              "color": "#C8D4E3"
             },
             "line": {
              "color": "white"
             }
            },
            "type": "table"
           }
          ]
         },
         "layout": {
          "annotationdefaults": {
           "arrowcolor": "#2a3f5f",
           "arrowhead": 0,
           "arrowwidth": 1
          },
          "autotypenumbers": "strict",
          "coloraxis": {
           "colorbar": {
            "outlinewidth": 0,
            "ticks": ""
           }
          },
          "colorscale": {
           "diverging": [
            [
             0,
             "#8e0152"
            ],
            [
             0.1,
             "#c51b7d"
            ],
            [
             0.2,
             "#de77ae"
            ],
            [
             0.3,
             "#f1b6da"
            ],
            [
             0.4,
             "#fde0ef"
            ],
            [
             0.5,
             "#f7f7f7"
            ],
            [
             0.6,
             "#e6f5d0"
            ],
            [
             0.7,
             "#b8e186"
            ],
            [
             0.8,
             "#7fbc41"
            ],
            [
             0.9,
             "#4d9221"
            ],
            [
             1,
             "#276419"
            ]
           ],
           "sequential": [
            [
             0,
             "#0d0887"
            ],
            [
             0.1111111111111111,
             "#46039f"
            ],
            [
             0.2222222222222222,
             "#7201a8"
            ],
            [
             0.3333333333333333,
             "#9c179e"
            ],
            [
             0.4444444444444444,
             "#bd3786"
            ],
            [
             0.5555555555555556,
             "#d8576b"
            ],
            [
             0.6666666666666666,
             "#ed7953"
            ],
            [
             0.7777777777777778,
             "#fb9f3a"
            ],
            [
             0.8888888888888888,
             "#fdca26"
            ],
            [
             1,
             "#f0f921"
            ]
           ],
           "sequentialminus": [
            [
             0,
             "#0d0887"
            ],
            [
             0.1111111111111111,
             "#46039f"
            ],
            [
             0.2222222222222222,
             "#7201a8"
            ],
            [
             0.3333333333333333,
             "#9c179e"
            ],
            [
             0.4444444444444444,
             "#bd3786"
            ],
            [
             0.5555555555555556,
             "#d8576b"
            ],
            [
             0.6666666666666666,
             "#ed7953"
            ],
            [
             0.7777777777777778,
             "#fb9f3a"
            ],
            [
             0.8888888888888888,
             "#fdca26"
            ],
            [
             1,
             "#f0f921"
            ]
           ]
          },
          "colorway": [
           "#636efa",
           "#EF553B",
           "#00cc96",
           "#ab63fa",
           "#FFA15A",
           "#19d3f3",
           "#FF6692",
           "#B6E880",
           "#FF97FF",
           "#FECB52"
          ],
          "font": {
           "color": "#2a3f5f"
          },
          "geo": {
           "bgcolor": "white",
           "lakecolor": "white",
           "landcolor": "#E5ECF6",
           "showlakes": true,
           "showland": true,
           "subunitcolor": "white"
          },
          "hoverlabel": {
           "align": "left"
          },
          "hovermode": "closest",
          "mapbox": {
           "style": "light"
          },
          "paper_bgcolor": "white",
          "plot_bgcolor": "#E5ECF6",
          "polar": {
           "angularaxis": {
            "gridcolor": "white",
            "linecolor": "white",
            "ticks": ""
           },
           "bgcolor": "#E5ECF6",
           "radialaxis": {
            "gridcolor": "white",
            "linecolor": "white",
            "ticks": ""
           }
          },
          "scene": {
           "xaxis": {
            "backgroundcolor": "#E5ECF6",
            "gridcolor": "white",
            "gridwidth": 2,
            "linecolor": "white",
            "showbackground": true,
            "ticks": "",
            "zerolinecolor": "white"
           },
           "yaxis": {
            "backgroundcolor": "#E5ECF6",
            "gridcolor": "white",
            "gridwidth": 2,
            "linecolor": "white",
            "showbackground": true,
            "ticks": "",
            "zerolinecolor": "white"
           },
           "zaxis": {
            "backgroundcolor": "#E5ECF6",
            "gridcolor": "white",
            "gridwidth": 2,
            "linecolor": "white",
            "showbackground": true,
            "ticks": "",
            "zerolinecolor": "white"
           }
          },
          "shapedefaults": {
           "line": {
            "color": "#2a3f5f"
           }
          },
          "ternary": {
           "aaxis": {
            "gridcolor": "white",
            "linecolor": "white",
            "ticks": ""
           },
           "baxis": {
            "gridcolor": "white",
            "linecolor": "white",
            "ticks": ""
           },
           "bgcolor": "#E5ECF6",
           "caxis": {
            "gridcolor": "white",
            "linecolor": "white",
            "ticks": ""
           }
          },
          "title": {
           "x": 0.05
          },
          "xaxis": {
           "automargin": true,
           "gridcolor": "white",
           "linecolor": "white",
           "ticks": "",
           "title": {
            "standoff": 15
           },
           "zerolinecolor": "white",
           "zerolinewidth": 2
          },
          "yaxis": {
           "automargin": true,
           "gridcolor": "white",
           "linecolor": "white",
           "ticks": "",
           "title": {
            "standoff": 15
           },
           "zerolinecolor": "white",
           "zerolinewidth": 2
          }
         }
        },
        "title": {
         "text": "Accuracy value sampling runs"
        },
        "xaxis": {
         "anchor": "y",
         "domain": [
          0,
          1
         ],
         "title": {
          "text": "Iteration"
         }
        },
        "yaxis": {
         "anchor": "x",
         "domain": [
          0,
          1
         ],
         "title": {
          "text": "Accuracy"
         }
        }
       }
      }
     },
     "metadata": {},
     "output_type": "display_data"
    },
    {
     "name": "stdout",
     "output_type": "stream",
     "text": [
      "Best accuracy: 0.8523489932885906 at iteration 69 with ['499.31' '504.19' '505.164' '948.534' '949.698']\n"
     ]
    }
   ],
   "source": [
    "c.plot_accuracy(run=0)"
   ]
  },
  {
   "cell_type": "code",
   "execution_count": 5,
   "metadata": {},
   "outputs": [
    {
     "data": {
      "application/vnd.plotly.v1+json": {
       "config": {
        "plotlyServerURL": "https://plot.ly"
       },
       "data": [
        {
         "hovertemplate": "<b>%{hovertext}</b><br><br>Iteration=%{x}<br>Accuracy=%{y}<extra></extra>",
         "hovertext": [
          "504.19",
          "504.19",
          "504.19",
          "504.19",
          "504.19",
          "504.19",
          "504.19 - 948.534",
          "504.19 - 948.534",
          "504.19 - 948.534",
          "504.19 - 948.534",
          "504.19 - 948.534",
          "504.19 - 948.534",
          "504.19 - 948.534",
          "504.19 - 948.534",
          "504.19 - 948.534",
          "504.19 - 948.534",
          "504.19 - 948.534",
          "504.19 - 948.534",
          "504.19 - 948.534",
          "499.31 - 504.19 - 948.534 - 949.698",
          "499.31 - 504.19 - 948.534 - 949.698",
          "499.31 - 504.19 - 948.534 - 949.698",
          "499.31 - 504.19 - 948.534 - 949.698",
          "499.31 - 504.19 - 948.534 - 949.698",
          "499.31 - 504.19 - 948.534 - 949.698",
          "499.31 - 504.19 - 948.534 - 949.698",
          "499.31 - 504.19 - 948.534 - 949.698",
          "499.31 - 504.19 - 948.534 - 949.698",
          "499.31 - 504.19 - 948.534 - 949.698",
          "499.31 - 504.19 - 946.982 - 948.534 - 949.698",
          "499.31 - 504.19 - 763.223 - 946.982 - 948.534 - 949.698",
          "499.31 - 504.19 - 763.223 - 946.982 - 948.534 - 949.698",
          "499.31 - 504.19 - 763.223 - 946.982 - 948.534 - 949.698",
          "499.31 - 504.19 - 688.856 - 763.223 - 946.982 - 948.534 - 949.698",
          "499.31 - 504.19 - 688.856 - 763.223 - 946.982 - 948.534 - 949.698",
          "499.31 - 504.19 - 688.856 - 763.223 - 946.982 - 948.534 - 949.698",
          "499.31 - 504.19 - 688.856 - 763.223 - 946.982 - 948.534 - 949.698",
          "499.31 - 504.19 - 688.856 - 763.223 - 946.982 - 948.534 - 949.698",
          "499.31 - 504.19 - 688.856 - 763.223 - 946.982 - 948.534 - 949.698",
          "499.31 - 504.19 - 688.856 - 763.223 - 946.982 - 948.534 - 949.698",
          "499.31 - 504.19 - 688.856 - 763.223 - 946.982 - 948.534 - 949.698",
          "499.31 - 502.727 - 504.19 - 688.856 - 737.734 - 763.223 - 946.982 - 948.534 - 949.698",
          "499.31 - 502.727 - 504.19 - 688.856 - 737.734 - 763.223 - 941.537 - 946.982 - 948.534 - 949.698",
          "499.31 - 502.727 - 504.19 - 688.856 - 737.734 - 763.223 - 941.537 - 946.982 - 948.534 - 949.698",
          "499.31 - 502.727 - 504.19 - 688.856 - 737.734 - 763.223 - 941.537 - 946.982 - 948.534 - 949.698",
          "499.31 - 502.727 - 504.19 - 688.856 - 737.734 - 763.223 - 941.537 - 946.982 - 948.534 - 949.698",
          "499.31 - 502.727 - 504.19 - 688.856 - 737.734 - 763.223 - 941.537 - 946.982 - 948.534 - 949.698",
          "13 wavelengths",
          "15 wavelengths",
          "15 wavelengths",
          "15 wavelengths",
          "15 wavelengths",
          "16 wavelengths",
          "17 wavelengths",
          "21 wavelengths",
          "22 wavelengths",
          "24 wavelengths",
          "24 wavelengths",
          "26 wavelengths",
          "29 wavelengths",
          "31 wavelengths",
          "33 wavelengths",
          "34 wavelengths",
          "38 wavelengths",
          "39 wavelengths",
          "41 wavelengths",
          "41 wavelengths",
          "41 wavelengths",
          "41 wavelengths",
          "44 wavelengths",
          "48 wavelengths",
          "52 wavelengths",
          "55 wavelengths",
          "63 wavelengths",
          "67 wavelengths",
          "71 wavelengths",
          "77 wavelengths",
          "80 wavelengths",
          "83 wavelengths",
          "89 wavelengths",
          "94 wavelengths",
          "95 wavelengths",
          "102 wavelengths",
          "105 wavelengths",
          "114 wavelengths",
          "117 wavelengths",
          "125 wavelengths",
          "130 wavelengths",
          "137 wavelengths",
          "148 wavelengths",
          "163 wavelengths",
          "177 wavelengths",
          "190 wavelengths",
          "209 wavelengths",
          "225 wavelengths",
          "246 wavelengths",
          "277 wavelengths",
          "320 wavelengths",
          "396 wavelengths",
          "574 wavelengths"
         ],
         "legendgroup": "",
         "line": {
          "color": "#636efa",
          "dash": "solid"
         },
         "marker": {
          "symbol": "circle"
         },
         "mode": "lines",
         "name": "",
         "orientation": "v",
         "showlegend": false,
         "type": "scatter",
         "x": [
          100,
          99,
          98,
          97,
          96,
          95,
          94,
          93,
          92,
          91,
          90,
          89,
          88,
          87,
          86,
          85,
          84,
          83,
          82,
          81,
          80,
          79,
          78,
          77,
          76,
          75,
          74,
          73,
          72,
          71,
          70,
          69,
          68,
          67,
          66,
          65,
          64,
          63,
          62,
          61,
          60,
          59,
          58,
          57,
          56,
          55,
          54,
          53,
          52,
          51,
          50,
          49,
          48,
          47,
          46,
          45,
          44,
          43,
          42,
          41,
          40,
          39,
          38,
          37,
          36,
          35,
          34,
          33,
          32,
          31,
          30,
          29,
          28,
          27,
          26,
          25,
          24,
          23,
          22,
          21,
          20,
          19,
          18,
          17,
          16,
          15,
          14,
          13,
          12,
          11,
          10,
          9,
          8,
          7,
          6,
          5,
          4,
          3,
          2,
          1
         ],
         "xaxis": "x",
         "y": {
          "bdata": "pSD58yqL4z+lIPnzKovjP6Ug+fMqi+M/pSD58yqL4z+lIPnzKovjP6Ug+fMqi+M/TIQnBcmf5z9MhCcFyZ/nP0yEJwXJn+c/TIQnBcmf5z9MhCcFyZ/nP0yEJwXJn+c/TIQnBcmf5z9MhCcFyZ/nP0yEJwXJn+c/TIQnBcmf5z9MhCcFyZ/nP0yEJwXJn+c/TIQnBcmf5z/r24Chmo7pP+vbgKGajuk/69uAoZqO6T/r24Chmo7pP+vbgKGajuk/69uAoZqO6T/r24Chmo7pP+vbgKGajuk/69uAoZqO6T/r24Chmo7pP7pEeFKQ/Ok/ukR4UpD86T+6RHhSkPzpP7pEeFKQ/Ok/UpD8eZXF6T9SkPx5lcXpP1KQ/HmVxek/UpD8eZXF6T9SkPx5lcXpP1KQ/HmVxek/UpD8eZXF6T9SkPx5lcXpPyH58yqLM+o/IfnzKosz6j8h+fMqizPqPyH58yqLM+o/IfnzKosz6j8h+fMqizPqP+vbgKGajuk/ukR4UpD86T+6RHhSkPzpP7pEeFKQ/Ok/ukR4UpD86T9SkPx5lcXpPx1zifCkIOk/HXOJ8KQg6T9SkPx5lcXpP7pEeFKQ/Ok/ukR4UpD86T/r24Chmo7pP7pEeFKQ/Ok/ukR4UpD86T+6RHhSkPzpP7pEeFKQ/Ok/ukR4UpD86T+6RHhSkPzpPyH58yqLM+o/IfnzKosz6j8h+fMqizPqPyH58yqLM+o/ukR4UpD86T9SkPx5lcXpP7pEeFKQ/Ok/ukR4UpD86T+6RHhSkPzpP7pEeFKQ/Ok/ukR4UpD86T8h+fMqizPqPyH58yqLM+o/ukR4UpD86T8h+fMqizPqPyH58yqLM+o/ukR4UpD86T+6RHhSkPzpP7pEeFKQ/Ok/UpD8eZXF6T9SkPx5lcXpP7pEeFKQ/Ok/ukR4UpD86T8h+fMqizPqPyH58yqLM+o/IfnzKosz6j8h+fMqizPqP7a+DRiq6eg/tr4NGKrp6D9PCpI/r7LoP08Kkj+vsug/6FUWZ7R76D+2vg0YqunoP08Kkj+vsug/TwqSP6+y6D8=",
          "dtype": "f8"
         },
         "yaxis": "y"
        }
       ],
       "layout": {
        "legend": {
         "tracegroupgap": 0
        },
        "template": {
         "data": {
          "bar": [
           {
            "error_x": {
             "color": "#2a3f5f"
            },
            "error_y": {
             "color": "#2a3f5f"
            },
            "marker": {
             "line": {
              "color": "#E5ECF6",
              "width": 0.5
             },
             "pattern": {
              "fillmode": "overlay",
              "size": 10,
              "solidity": 0.2
             }
            },
            "type": "bar"
           }
          ],
          "barpolar": [
           {
            "marker": {
             "line": {
              "color": "#E5ECF6",
              "width": 0.5
             },
             "pattern": {
              "fillmode": "overlay",
              "size": 10,
              "solidity": 0.2
             }
            },
            "type": "barpolar"
           }
          ],
          "carpet": [
           {
            "aaxis": {
             "endlinecolor": "#2a3f5f",
             "gridcolor": "white",
             "linecolor": "white",
             "minorgridcolor": "white",
             "startlinecolor": "#2a3f5f"
            },
            "baxis": {
             "endlinecolor": "#2a3f5f",
             "gridcolor": "white",
             "linecolor": "white",
             "minorgridcolor": "white",
             "startlinecolor": "#2a3f5f"
            },
            "type": "carpet"
           }
          ],
          "choropleth": [
           {
            "colorbar": {
             "outlinewidth": 0,
             "ticks": ""
            },
            "type": "choropleth"
           }
          ],
          "contour": [
           {
            "colorbar": {
             "outlinewidth": 0,
             "ticks": ""
            },
            "colorscale": [
             [
              0,
              "#0d0887"
             ],
             [
              0.1111111111111111,
              "#46039f"
             ],
             [
              0.2222222222222222,
              "#7201a8"
             ],
             [
              0.3333333333333333,
              "#9c179e"
             ],
             [
              0.4444444444444444,
              "#bd3786"
             ],
             [
              0.5555555555555556,
              "#d8576b"
             ],
             [
              0.6666666666666666,
              "#ed7953"
             ],
             [
              0.7777777777777778,
              "#fb9f3a"
             ],
             [
              0.8888888888888888,
              "#fdca26"
             ],
             [
              1,
              "#f0f921"
             ]
            ],
            "type": "contour"
           }
          ],
          "contourcarpet": [
           {
            "colorbar": {
             "outlinewidth": 0,
             "ticks": ""
            },
            "type": "contourcarpet"
           }
          ],
          "heatmap": [
           {
            "colorbar": {
             "outlinewidth": 0,
             "ticks": ""
            },
            "colorscale": [
             [
              0,
              "#0d0887"
             ],
             [
              0.1111111111111111,
              "#46039f"
             ],
             [
              0.2222222222222222,
              "#7201a8"
             ],
             [
              0.3333333333333333,
              "#9c179e"
             ],
             [
              0.4444444444444444,
              "#bd3786"
             ],
             [
              0.5555555555555556,
              "#d8576b"
             ],
             [
              0.6666666666666666,
              "#ed7953"
             ],
             [
              0.7777777777777778,
              "#fb9f3a"
             ],
             [
              0.8888888888888888,
              "#fdca26"
             ],
             [
              1,
              "#f0f921"
             ]
            ],
            "type": "heatmap"
           }
          ],
          "histogram": [
           {
            "marker": {
             "pattern": {
              "fillmode": "overlay",
              "size": 10,
              "solidity": 0.2
             }
            },
            "type": "histogram"
           }
          ],
          "histogram2d": [
           {
            "colorbar": {
             "outlinewidth": 0,
             "ticks": ""
            },
            "colorscale": [
             [
              0,
              "#0d0887"
             ],
             [
              0.1111111111111111,
              "#46039f"
             ],
             [
              0.2222222222222222,
              "#7201a8"
             ],
             [
              0.3333333333333333,
              "#9c179e"
             ],
             [
              0.4444444444444444,
              "#bd3786"
             ],
             [
              0.5555555555555556,
              "#d8576b"
             ],
             [
              0.6666666666666666,
              "#ed7953"
             ],
             [
              0.7777777777777778,
              "#fb9f3a"
             ],
             [
              0.8888888888888888,
              "#fdca26"
             ],
             [
              1,
              "#f0f921"
             ]
            ],
            "type": "histogram2d"
           }
          ],
          "histogram2dcontour": [
           {
            "colorbar": {
             "outlinewidth": 0,
             "ticks": ""
            },
            "colorscale": [
             [
              0,
              "#0d0887"
             ],
             [
              0.1111111111111111,
              "#46039f"
             ],
             [
              0.2222222222222222,
              "#7201a8"
             ],
             [
              0.3333333333333333,
              "#9c179e"
             ],
             [
              0.4444444444444444,
              "#bd3786"
             ],
             [
              0.5555555555555556,
              "#d8576b"
             ],
             [
              0.6666666666666666,
              "#ed7953"
             ],
             [
              0.7777777777777778,
              "#fb9f3a"
             ],
             [
              0.8888888888888888,
              "#fdca26"
             ],
             [
              1,
              "#f0f921"
             ]
            ],
            "type": "histogram2dcontour"
           }
          ],
          "mesh3d": [
           {
            "colorbar": {
             "outlinewidth": 0,
             "ticks": ""
            },
            "type": "mesh3d"
           }
          ],
          "parcoords": [
           {
            "line": {
             "colorbar": {
              "outlinewidth": 0,
              "ticks": ""
             }
            },
            "type": "parcoords"
           }
          ],
          "pie": [
           {
            "automargin": true,
            "type": "pie"
           }
          ],
          "scatter": [
           {
            "fillpattern": {
             "fillmode": "overlay",
             "size": 10,
             "solidity": 0.2
            },
            "type": "scatter"
           }
          ],
          "scatter3d": [
           {
            "line": {
             "colorbar": {
              "outlinewidth": 0,
              "ticks": ""
             }
            },
            "marker": {
             "colorbar": {
              "outlinewidth": 0,
              "ticks": ""
             }
            },
            "type": "scatter3d"
           }
          ],
          "scattercarpet": [
           {
            "marker": {
             "colorbar": {
              "outlinewidth": 0,
              "ticks": ""
             }
            },
            "type": "scattercarpet"
           }
          ],
          "scattergeo": [
           {
            "marker": {
             "colorbar": {
              "outlinewidth": 0,
              "ticks": ""
             }
            },
            "type": "scattergeo"
           }
          ],
          "scattergl": [
           {
            "marker": {
             "colorbar": {
              "outlinewidth": 0,
              "ticks": ""
             }
            },
            "type": "scattergl"
           }
          ],
          "scattermap": [
           {
            "marker": {
             "colorbar": {
              "outlinewidth": 0,
              "ticks": ""
             }
            },
            "type": "scattermap"
           }
          ],
          "scattermapbox": [
           {
            "marker": {
             "colorbar": {
              "outlinewidth": 0,
              "ticks": ""
             }
            },
            "type": "scattermapbox"
           }
          ],
          "scatterpolar": [
           {
            "marker": {
             "colorbar": {
              "outlinewidth": 0,
              "ticks": ""
             }
            },
            "type": "scatterpolar"
           }
          ],
          "scatterpolargl": [
           {
            "marker": {
             "colorbar": {
              "outlinewidth": 0,
              "ticks": ""
             }
            },
            "type": "scatterpolargl"
           }
          ],
          "scatterternary": [
           {
            "marker": {
             "colorbar": {
              "outlinewidth": 0,
              "ticks": ""
             }
            },
            "type": "scatterternary"
           }
          ],
          "surface": [
           {
            "colorbar": {
             "outlinewidth": 0,
             "ticks": ""
            },
            "colorscale": [
             [
              0,
              "#0d0887"
             ],
             [
              0.1111111111111111,
              "#46039f"
             ],
             [
              0.2222222222222222,
              "#7201a8"
             ],
             [
              0.3333333333333333,
              "#9c179e"
             ],
             [
              0.4444444444444444,
              "#bd3786"
             ],
             [
              0.5555555555555556,
              "#d8576b"
             ],
             [
              0.6666666666666666,
              "#ed7953"
             ],
             [
              0.7777777777777778,
              "#fb9f3a"
             ],
             [
              0.8888888888888888,
              "#fdca26"
             ],
             [
              1,
              "#f0f921"
             ]
            ],
            "type": "surface"
           }
          ],
          "table": [
           {
            "cells": {
             "fill": {
              "color": "#EBF0F8"
             },
             "line": {
              "color": "white"
             }
            },
            "header": {
             "fill": {
              "color": "#C8D4E3"
             },
             "line": {
              "color": "white"
             }
            },
            "type": "table"
           }
          ]
         },
         "layout": {
          "annotationdefaults": {
           "arrowcolor": "#2a3f5f",
           "arrowhead": 0,
           "arrowwidth": 1
          },
          "autotypenumbers": "strict",
          "coloraxis": {
           "colorbar": {
            "outlinewidth": 0,
            "ticks": ""
           }
          },
          "colorscale": {
           "diverging": [
            [
             0,
             "#8e0152"
            ],
            [
             0.1,
             "#c51b7d"
            ],
            [
             0.2,
             "#de77ae"
            ],
            [
             0.3,
             "#f1b6da"
            ],
            [
             0.4,
             "#fde0ef"
            ],
            [
             0.5,
             "#f7f7f7"
            ],
            [
             0.6,
             "#e6f5d0"
            ],
            [
             0.7,
             "#b8e186"
            ],
            [
             0.8,
             "#7fbc41"
            ],
            [
             0.9,
             "#4d9221"
            ],
            [
             1,
             "#276419"
            ]
           ],
           "sequential": [
            [
             0,
             "#0d0887"
            ],
            [
             0.1111111111111111,
             "#46039f"
            ],
            [
             0.2222222222222222,
             "#7201a8"
            ],
            [
             0.3333333333333333,
             "#9c179e"
            ],
            [
             0.4444444444444444,
             "#bd3786"
            ],
            [
             0.5555555555555556,
             "#d8576b"
            ],
            [
             0.6666666666666666,
             "#ed7953"
            ],
            [
             0.7777777777777778,
             "#fb9f3a"
            ],
            [
             0.8888888888888888,
             "#fdca26"
            ],
            [
             1,
             "#f0f921"
            ]
           ],
           "sequentialminus": [
            [
             0,
             "#0d0887"
            ],
            [
             0.1111111111111111,
             "#46039f"
            ],
            [
             0.2222222222222222,
             "#7201a8"
            ],
            [
             0.3333333333333333,
             "#9c179e"
            ],
            [
             0.4444444444444444,
             "#bd3786"
            ],
            [
             0.5555555555555556,
             "#d8576b"
            ],
            [
             0.6666666666666666,
             "#ed7953"
            ],
            [
             0.7777777777777778,
             "#fb9f3a"
            ],
            [
             0.8888888888888888,
             "#fdca26"
            ],
            [
             1,
             "#f0f921"
            ]
           ]
          },
          "colorway": [
           "#636efa",
           "#EF553B",
           "#00cc96",
           "#ab63fa",
           "#FFA15A",
           "#19d3f3",
           "#FF6692",
           "#B6E880",
           "#FF97FF",
           "#FECB52"
          ],
          "font": {
           "color": "#2a3f5f"
          },
          "geo": {
           "bgcolor": "white",
           "lakecolor": "white",
           "landcolor": "#E5ECF6",
           "showlakes": true,
           "showland": true,
           "subunitcolor": "white"
          },
          "hoverlabel": {
           "align": "left"
          },
          "hovermode": "closest",
          "mapbox": {
           "style": "light"
          },
          "paper_bgcolor": "white",
          "plot_bgcolor": "#E5ECF6",
          "polar": {
           "angularaxis": {
            "gridcolor": "white",
            "linecolor": "white",
            "ticks": ""
           },
           "bgcolor": "#E5ECF6",
           "radialaxis": {
            "gridcolor": "white",
            "linecolor": "white",
            "ticks": ""
           }
          },
          "scene": {
           "xaxis": {
            "backgroundcolor": "#E5ECF6",
            "gridcolor": "white",
            "gridwidth": 2,
            "linecolor": "white",
            "showbackground": true,
            "ticks": "",
            "zerolinecolor": "white"
           },
           "yaxis": {
            "backgroundcolor": "#E5ECF6",
            "gridcolor": "white",
            "gridwidth": 2,
            "linecolor": "white",
            "showbackground": true,
            "ticks": "",
            "zerolinecolor": "white"
           },
           "zaxis": {
            "backgroundcolor": "#E5ECF6",
            "gridcolor": "white",
            "gridwidth": 2,
            "linecolor": "white",
            "showbackground": true,
            "ticks": "",
            "zerolinecolor": "white"
           }
          },
          "shapedefaults": {
           "line": {
            "color": "#2a3f5f"
           }
          },
          "ternary": {
           "aaxis": {
            "gridcolor": "white",
            "linecolor": "white",
            "ticks": ""
           },
           "baxis": {
            "gridcolor": "white",
            "linecolor": "white",
            "ticks": ""
           },
           "bgcolor": "#E5ECF6",
           "caxis": {
            "gridcolor": "white",
            "linecolor": "white",
            "ticks": ""
           }
          },
          "title": {
           "x": 0.05
          },
          "xaxis": {
           "automargin": true,
           "gridcolor": "white",
           "linecolor": "white",
           "ticks": "",
           "title": {
            "standoff": 15
           },
           "zerolinecolor": "white",
           "zerolinewidth": 2
          },
          "yaxis": {
           "automargin": true,
           "gridcolor": "white",
           "linecolor": "white",
           "ticks": "",
           "title": {
            "standoff": 15
           },
           "zerolinecolor": "white",
           "zerolinewidth": 2
          }
         }
        },
        "title": {
         "text": "Accuracy value sampling runs"
        },
        "xaxis": {
         "anchor": "y",
         "domain": [
          0,
          1
         ],
         "title": {
          "text": "Iteration"
         }
        },
        "yaxis": {
         "anchor": "x",
         "domain": [
          0,
          1
         ],
         "title": {
          "text": "Accuracy"
         }
        }
       }
      }
     },
     "metadata": {},
     "output_type": "display_data"
    },
    {
     "name": "stdout",
     "output_type": "stream",
     "text": [
      "Best accuracy: 0.8187919463087249 at iteration 59 with ['499.31' '502.727' '504.19' '688.856' '737.734' '763.223' '946.982'\n",
      " '948.534' '949.698']\n"
     ]
    }
   ],
   "source": [
    "c.plot_accuracy(run=1)"
   ]
  },
  {
   "cell_type": "code",
   "execution_count": 6,
   "metadata": {},
   "outputs": [
    {
     "data": {
      "application/vnd.plotly.v1+json": {
       "config": {
        "plotlyServerURL": "https://plot.ly"
       },
       "data": [
        {
         "hovertemplate": "<b>%{hovertext}</b><br><br>Iteration=%{x}<br>Accuracy=%{y}<extra></extra>",
         "hovertext": [
          "946.982",
          "946.982",
          "946.982",
          "946.982",
          "946.982",
          "946.982",
          "946.982",
          "946.982",
          "946.982",
          "751.169 - 946.982",
          "751.169 - 946.982",
          "751.169 - 946.982",
          "751.169 - 946.982",
          "751.169 - 946.982",
          "751.169 - 946.982",
          "751.169 - 946.982",
          "751.169 - 946.982",
          "504.19 - 751.169 - 946.982",
          "504.19 - 751.169 - 946.982",
          "504.19 - 751.169 - 946.982",
          "504.19 - 751.169 - 946.982",
          "504.19 - 751.169 - 946.982",
          "504.19 - 751.169 - 946.982",
          "504.19 - 751.169 - 946.982",
          "504.19 - 751.169 - 946.982",
          "504.19 - 751.169 - 946.982",
          "504.19 - 751.169 - 946.982",
          "504.19 - 751.169 - 946.982 - 948.534",
          "504.19 - 751.169 - 946.982 - 948.534",
          "504.19 - 751.169 - 946.982 - 948.534",
          "504.19 - 751.169 - 946.982 - 948.534",
          "504.19 - 687.964 - 751.169 - 946.982 - 948.534",
          "504.19 - 687.964 - 751.169 - 946.982 - 948.534",
          "504.19 - 687.964 - 751.169 - 946.982 - 948.534",
          "504.19 - 687.964 - 751.169 - 763.223 - 946.982 - 948.534",
          "504.19 - 687.964 - 745.113 - 751.169 - 763.223 - 946.982 - 948.534",
          "504.19 - 687.964 - 745.113 - 751.169 - 763.223 - 946.982 - 948.534",
          "504.19 - 687.964 - 737.734 - 745.113 - 751.169 - 763.223 - 942.315 - 946.982 - 948.534",
          "504.19 - 687.964 - 737.734 - 745.113 - 751.169 - 763.223 - 942.315 - 946.982 - 948.534",
          "504.19 - 687.964 - 737.734 - 745.113 - 751.169 - 763.223 - 942.315 - 946.982 - 948.534",
          "504.19 - 687.964 - 737.734 - 745.113 - 751.169 - 763.223 - 942.315 - 946.982 - 948.534",
          "504.19 - 687.964 - 737.734 - 745.113 - 751.169 - 763.223 - 942.315 - 946.982 - 948.534",
          "504.19 - 687.964 - 737.734 - 745.113 - 751.169 - 763.223 - 942.315 - 946.982 - 948.534",
          "504.19 - 687.964 - 737.734 - 745.113 - 751.169 - 763.223 - 942.315 - 946.982 - 948.534",
          "11 wavelengths",
          "11 wavelengths",
          "12 wavelengths",
          "12 wavelengths",
          "13 wavelengths",
          "13 wavelengths",
          "13 wavelengths",
          "15 wavelengths",
          "16 wavelengths",
          "16 wavelengths",
          "16 wavelengths",
          "16 wavelengths",
          "17 wavelengths",
          "21 wavelengths",
          "23 wavelengths",
          "24 wavelengths",
          "26 wavelengths",
          "27 wavelengths",
          "31 wavelengths",
          "33 wavelengths",
          "35 wavelengths",
          "39 wavelengths",
          "40 wavelengths",
          "42 wavelengths",
          "43 wavelengths",
          "46 wavelengths",
          "48 wavelengths",
          "54 wavelengths",
          "56 wavelengths",
          "58 wavelengths",
          "65 wavelengths",
          "71 wavelengths",
          "76 wavelengths",
          "80 wavelengths",
          "83 wavelengths",
          "87 wavelengths",
          "89 wavelengths",
          "94 wavelengths",
          "100 wavelengths",
          "108 wavelengths",
          "113 wavelengths",
          "121 wavelengths",
          "127 wavelengths",
          "141 wavelengths",
          "155 wavelengths",
          "166 wavelengths",
          "178 wavelengths",
          "187 wavelengths",
          "193 wavelengths",
          "207 wavelengths",
          "227 wavelengths",
          "249 wavelengths",
          "279 wavelengths",
          "326 wavelengths",
          "407 wavelengths",
          "565 wavelengths"
         ],
         "legendgroup": "",
         "line": {
          "color": "#636efa",
          "dash": "solid"
         },
         "marker": {
          "symbol": "circle"
         },
         "mode": "lines",
         "name": "",
         "orientation": "v",
         "showlegend": false,
         "type": "scatter",
         "x": [
          100,
          99,
          98,
          97,
          96,
          95,
          94,
          93,
          92,
          91,
          90,
          89,
          88,
          87,
          86,
          85,
          84,
          83,
          82,
          81,
          80,
          79,
          78,
          77,
          76,
          75,
          74,
          73,
          72,
          71,
          70,
          69,
          68,
          67,
          66,
          65,
          64,
          63,
          62,
          61,
          60,
          59,
          58,
          57,
          56,
          55,
          54,
          53,
          52,
          51,
          50,
          49,
          48,
          47,
          46,
          45,
          44,
          43,
          42,
          41,
          40,
          39,
          38,
          37,
          36,
          35,
          34,
          33,
          32,
          31,
          30,
          29,
          28,
          27,
          26,
          25,
          24,
          23,
          22,
          21,
          20,
          19,
          18,
          17,
          16,
          15,
          14,
          13,
          12,
          11,
          10,
          9,
          8,
          7,
          6,
          5,
          4,
          3,
          2,
          1
         ],
         "xaxis": "x",
         "y": {
          "bdata": "4UlB8udV5j/hSUHy51XmP+FJQfLnVeY/4UlB8udV5j/hSUHy51XmP+FJQfLnVeY/4UlB8udV5j/hSUHy51XmP+FJQfLnVeY/5c+rLM5o5z/lz6sszmjnP+XPqyzOaOc/5c+rLM5o5z/lz6sszmjnP+XPqyzOaOc/5c+rLM5o5z/lz6sszmjnP7M4o93D1uc/szij3cPW5z+zOKPdw9bnP7M4o93D1uc/szij3cPW5z+zOKPdw9bnP7M4o93D1uc/szij3cPW5z+zOKPdw9bnP7M4o93D1uc/Gu0etr4N6D8a7R62vg3oPxrtHra+Deg/Gu0etr4N6D9PCpI/r7LoP08Kkj+vsug/TwqSP6+y6D+2vg0YqunoP+hVFme0e+g/6FUWZ7R76D+IrW8DhmrqP4itbwOGauo/iK1vA4Zq6j+IrW8DhmrqP4itbwOGauo/iK1vA4Zq6j+IrW8DhmrqPyH58yqLM+o/IfnzKosz6j+LM9o9bH3rP4sz2j1sfes/izPaPWx96z+LM9o9bH3rP4sz2j1sfes/8udVFme06z/y51UWZ7TrP/LnVRZntOs/8udVFme06z/y51UWZ7TrP/LnVRZntOs/izPaPWx96z+LM9o9bH3rPyR/XmVxRus/izPaPWx96z+9yuKMdg/rP73K4ox2D+s/VhZntHvY6j+9yuKMdg/rP4itbwOGauo/IfnzKosz6j8h+fMqizPqPyH58yqLM+o/IfnzKosz6j8h+fMqizPqP4itbwOGauo/72Hr24Ch6j9WFme0e9jqP+9h69uAoeo/72Hr24Ch6j9WFme0e9jqP+9h69uAoeo/VhZntHvY6j+IrW8DhmrqP4itbwOGauo/iK1vA4Zq6j+IrW8DhmrqP4itbwOGauo/72Hr24Ch6j9WFme0e9jqP1YWZ7R72Oo/UpD8eZXF6T9SkPx5lcXpP1KQ/HmVxek/hCcFyZ9X6T+EJwXJn1fpP4QnBcmfV+k/hCcFyZ9X6T+EJwXJn1fpP4QnBcmfV+k/HXOJ8KQg6T8dc4nwpCDpP+hVFme0e+g/gaGajrlE6D8=",
          "dtype": "f8"
         },
         "yaxis": "y"
        }
       ],
       "layout": {
        "legend": {
         "tracegroupgap": 0
        },
        "template": {
         "data": {
          "bar": [
           {
            "error_x": {
             "color": "#2a3f5f"
            },
            "error_y": {
             "color": "#2a3f5f"
            },
            "marker": {
             "line": {
              "color": "#E5ECF6",
              "width": 0.5
             },
             "pattern": {
              "fillmode": "overlay",
              "size": 10,
              "solidity": 0.2
             }
            },
            "type": "bar"
           }
          ],
          "barpolar": [
           {
            "marker": {
             "line": {
              "color": "#E5ECF6",
              "width": 0.5
             },
             "pattern": {
              "fillmode": "overlay",
              "size": 10,
              "solidity": 0.2
             }
            },
            "type": "barpolar"
           }
          ],
          "carpet": [
           {
            "aaxis": {
             "endlinecolor": "#2a3f5f",
             "gridcolor": "white",
             "linecolor": "white",
             "minorgridcolor": "white",
             "startlinecolor": "#2a3f5f"
            },
            "baxis": {
             "endlinecolor": "#2a3f5f",
             "gridcolor": "white",
             "linecolor": "white",
             "minorgridcolor": "white",
             "startlinecolor": "#2a3f5f"
            },
            "type": "carpet"
           }
          ],
          "choropleth": [
           {
            "colorbar": {
             "outlinewidth": 0,
             "ticks": ""
            },
            "type": "choropleth"
           }
          ],
          "contour": [
           {
            "colorbar": {
             "outlinewidth": 0,
             "ticks": ""
            },
            "colorscale": [
             [
              0,
              "#0d0887"
             ],
             [
              0.1111111111111111,
              "#46039f"
             ],
             [
              0.2222222222222222,
              "#7201a8"
             ],
             [
              0.3333333333333333,
              "#9c179e"
             ],
             [
              0.4444444444444444,
              "#bd3786"
             ],
             [
              0.5555555555555556,
              "#d8576b"
             ],
             [
              0.6666666666666666,
              "#ed7953"
             ],
             [
              0.7777777777777778,
              "#fb9f3a"
             ],
             [
              0.8888888888888888,
              "#fdca26"
             ],
             [
              1,
              "#f0f921"
             ]
            ],
            "type": "contour"
           }
          ],
          "contourcarpet": [
           {
            "colorbar": {
             "outlinewidth": 0,
             "ticks": ""
            },
            "type": "contourcarpet"
           }
          ],
          "heatmap": [
           {
            "colorbar": {
             "outlinewidth": 0,
             "ticks": ""
            },
            "colorscale": [
             [
              0,
              "#0d0887"
             ],
             [
              0.1111111111111111,
              "#46039f"
             ],
             [
              0.2222222222222222,
              "#7201a8"
             ],
             [
              0.3333333333333333,
              "#9c179e"
             ],
             [
              0.4444444444444444,
              "#bd3786"
             ],
             [
              0.5555555555555556,
              "#d8576b"
             ],
             [
              0.6666666666666666,
              "#ed7953"
             ],
             [
              0.7777777777777778,
              "#fb9f3a"
             ],
             [
              0.8888888888888888,
              "#fdca26"
             ],
             [
              1,
              "#f0f921"
             ]
            ],
            "type": "heatmap"
           }
          ],
          "histogram": [
           {
            "marker": {
             "pattern": {
              "fillmode": "overlay",
              "size": 10,
              "solidity": 0.2
             }
            },
            "type": "histogram"
           }
          ],
          "histogram2d": [
           {
            "colorbar": {
             "outlinewidth": 0,
             "ticks": ""
            },
            "colorscale": [
             [
              0,
              "#0d0887"
             ],
             [
              0.1111111111111111,
              "#46039f"
             ],
             [
              0.2222222222222222,
              "#7201a8"
             ],
             [
              0.3333333333333333,
              "#9c179e"
             ],
             [
              0.4444444444444444,
              "#bd3786"
             ],
             [
              0.5555555555555556,
              "#d8576b"
             ],
             [
              0.6666666666666666,
              "#ed7953"
             ],
             [
              0.7777777777777778,
              "#fb9f3a"
             ],
             [
              0.8888888888888888,
              "#fdca26"
             ],
             [
              1,
              "#f0f921"
             ]
            ],
            "type": "histogram2d"
           }
          ],
          "histogram2dcontour": [
           {
            "colorbar": {
             "outlinewidth": 0,
             "ticks": ""
            },
            "colorscale": [
             [
              0,
              "#0d0887"
             ],
             [
              0.1111111111111111,
              "#46039f"
             ],
             [
              0.2222222222222222,
              "#7201a8"
             ],
             [
              0.3333333333333333,
              "#9c179e"
             ],
             [
              0.4444444444444444,
              "#bd3786"
             ],
             [
              0.5555555555555556,
              "#d8576b"
             ],
             [
              0.6666666666666666,
              "#ed7953"
             ],
             [
              0.7777777777777778,
              "#fb9f3a"
             ],
             [
              0.8888888888888888,
              "#fdca26"
             ],
             [
              1,
              "#f0f921"
             ]
            ],
            "type": "histogram2dcontour"
           }
          ],
          "mesh3d": [
           {
            "colorbar": {
             "outlinewidth": 0,
             "ticks": ""
            },
            "type": "mesh3d"
           }
          ],
          "parcoords": [
           {
            "line": {
             "colorbar": {
              "outlinewidth": 0,
              "ticks": ""
             }
            },
            "type": "parcoords"
           }
          ],
          "pie": [
           {
            "automargin": true,
            "type": "pie"
           }
          ],
          "scatter": [
           {
            "fillpattern": {
             "fillmode": "overlay",
             "size": 10,
             "solidity": 0.2
            },
            "type": "scatter"
           }
          ],
          "scatter3d": [
           {
            "line": {
             "colorbar": {
              "outlinewidth": 0,
              "ticks": ""
             }
            },
            "marker": {
             "colorbar": {
              "outlinewidth": 0,
              "ticks": ""
             }
            },
            "type": "scatter3d"
           }
          ],
          "scattercarpet": [
           {
            "marker": {
             "colorbar": {
              "outlinewidth": 0,
              "ticks": ""
             }
            },
            "type": "scattercarpet"
           }
          ],
          "scattergeo": [
           {
            "marker": {
             "colorbar": {
              "outlinewidth": 0,
              "ticks": ""
             }
            },
            "type": "scattergeo"
           }
          ],
          "scattergl": [
           {
            "marker": {
             "colorbar": {
              "outlinewidth": 0,
              "ticks": ""
             }
            },
            "type": "scattergl"
           }
          ],
          "scattermap": [
           {
            "marker": {
             "colorbar": {
              "outlinewidth": 0,
              "ticks": ""
             }
            },
            "type": "scattermap"
           }
          ],
          "scattermapbox": [
           {
            "marker": {
             "colorbar": {
              "outlinewidth": 0,
              "ticks": ""
             }
            },
            "type": "scattermapbox"
           }
          ],
          "scatterpolar": [
           {
            "marker": {
             "colorbar": {
              "outlinewidth": 0,
              "ticks": ""
             }
            },
            "type": "scatterpolar"
           }
          ],
          "scatterpolargl": [
           {
            "marker": {
             "colorbar": {
              "outlinewidth": 0,
              "ticks": ""
             }
            },
            "type": "scatterpolargl"
           }
          ],
          "scatterternary": [
           {
            "marker": {
             "colorbar": {
              "outlinewidth": 0,
              "ticks": ""
             }
            },
            "type": "scatterternary"
           }
          ],
          "surface": [
           {
            "colorbar": {
             "outlinewidth": 0,
             "ticks": ""
            },
            "colorscale": [
             [
              0,
              "#0d0887"
             ],
             [
              0.1111111111111111,
              "#46039f"
             ],
             [
              0.2222222222222222,
              "#7201a8"
             ],
             [
              0.3333333333333333,
              "#9c179e"
             ],
             [
              0.4444444444444444,
              "#bd3786"
             ],
             [
              0.5555555555555556,
              "#d8576b"
             ],
             [
              0.6666666666666666,
              "#ed7953"
             ],
             [
              0.7777777777777778,
              "#fb9f3a"
             ],
             [
              0.8888888888888888,
              "#fdca26"
             ],
             [
              1,
              "#f0f921"
             ]
            ],
            "type": "surface"
           }
          ],
          "table": [
           {
            "cells": {
             "fill": {
              "color": "#EBF0F8"
             },
             "line": {
              "color": "white"
             }
            },
            "header": {
             "fill": {
              "color": "#C8D4E3"
             },
             "line": {
              "color": "white"
             }
            },
            "type": "table"
           }
          ]
         },
         "layout": {
          "annotationdefaults": {
           "arrowcolor": "#2a3f5f",
           "arrowhead": 0,
           "arrowwidth": 1
          },
          "autotypenumbers": "strict",
          "coloraxis": {
           "colorbar": {
            "outlinewidth": 0,
            "ticks": ""
           }
          },
          "colorscale": {
           "diverging": [
            [
             0,
             "#8e0152"
            ],
            [
             0.1,
             "#c51b7d"
            ],
            [
             0.2,
             "#de77ae"
            ],
            [
             0.3,
             "#f1b6da"
            ],
            [
             0.4,
             "#fde0ef"
            ],
            [
             0.5,
             "#f7f7f7"
            ],
            [
             0.6,
             "#e6f5d0"
            ],
            [
             0.7,
             "#b8e186"
            ],
            [
             0.8,
             "#7fbc41"
            ],
            [
             0.9,
             "#4d9221"
            ],
            [
             1,
             "#276419"
            ]
           ],
           "sequential": [
            [
             0,
             "#0d0887"
            ],
            [
             0.1111111111111111,
             "#46039f"
            ],
            [
             0.2222222222222222,
             "#7201a8"
            ],
            [
             0.3333333333333333,
             "#9c179e"
            ],
            [
             0.4444444444444444,
             "#bd3786"
            ],
            [
             0.5555555555555556,
             "#d8576b"
            ],
            [
             0.6666666666666666,
             "#ed7953"
            ],
            [
             0.7777777777777778,
             "#fb9f3a"
            ],
            [
             0.8888888888888888,
             "#fdca26"
            ],
            [
             1,
             "#f0f921"
            ]
           ],
           "sequentialminus": [
            [
             0,
             "#0d0887"
            ],
            [
             0.1111111111111111,
             "#46039f"
            ],
            [
             0.2222222222222222,
             "#7201a8"
            ],
            [
             0.3333333333333333,
             "#9c179e"
            ],
            [
             0.4444444444444444,
             "#bd3786"
            ],
            [
             0.5555555555555556,
             "#d8576b"
            ],
            [
             0.6666666666666666,
             "#ed7953"
            ],
            [
             0.7777777777777778,
             "#fb9f3a"
            ],
            [
             0.8888888888888888,
             "#fdca26"
            ],
            [
             1,
             "#f0f921"
            ]
           ]
          },
          "colorway": [
           "#636efa",
           "#EF553B",
           "#00cc96",
           "#ab63fa",
           "#FFA15A",
           "#19d3f3",
           "#FF6692",
           "#B6E880",
           "#FF97FF",
           "#FECB52"
          ],
          "font": {
           "color": "#2a3f5f"
          },
          "geo": {
           "bgcolor": "white",
           "lakecolor": "white",
           "landcolor": "#E5ECF6",
           "showlakes": true,
           "showland": true,
           "subunitcolor": "white"
          },
          "hoverlabel": {
           "align": "left"
          },
          "hovermode": "closest",
          "mapbox": {
           "style": "light"
          },
          "paper_bgcolor": "white",
          "plot_bgcolor": "#E5ECF6",
          "polar": {
           "angularaxis": {
            "gridcolor": "white",
            "linecolor": "white",
            "ticks": ""
           },
           "bgcolor": "#E5ECF6",
           "radialaxis": {
            "gridcolor": "white",
            "linecolor": "white",
            "ticks": ""
           }
          },
          "scene": {
           "xaxis": {
            "backgroundcolor": "#E5ECF6",
            "gridcolor": "white",
            "gridwidth": 2,
            "linecolor": "white",
            "showbackground": true,
            "ticks": "",
            "zerolinecolor": "white"
           },
           "yaxis": {
            "backgroundcolor": "#E5ECF6",
            "gridcolor": "white",
            "gridwidth": 2,
            "linecolor": "white",
            "showbackground": true,
            "ticks": "",
            "zerolinecolor": "white"
           },
           "zaxis": {
            "backgroundcolor": "#E5ECF6",
            "gridcolor": "white",
            "gridwidth": 2,
            "linecolor": "white",
            "showbackground": true,
            "ticks": "",
            "zerolinecolor": "white"
           }
          },
          "shapedefaults": {
           "line": {
            "color": "#2a3f5f"
           }
          },
          "ternary": {
           "aaxis": {
            "gridcolor": "white",
            "linecolor": "white",
            "ticks": ""
           },
           "baxis": {
            "gridcolor": "white",
            "linecolor": "white",
            "ticks": ""
           },
           "bgcolor": "#E5ECF6",
           "caxis": {
            "gridcolor": "white",
            "linecolor": "white",
            "ticks": ""
           }
          },
          "title": {
           "x": 0.05
          },
          "xaxis": {
           "automargin": true,
           "gridcolor": "white",
           "linecolor": "white",
           "ticks": "",
           "title": {
            "standoff": 15
           },
           "zerolinecolor": "white",
           "zerolinewidth": 2
          },
          "yaxis": {
           "automargin": true,
           "gridcolor": "white",
           "linecolor": "white",
           "ticks": "",
           "title": {
            "standoff": 15
           },
           "zerolinecolor": "white",
           "zerolinewidth": 2
          }
         }
        },
        "title": {
         "text": "Accuracy value sampling runs"
        },
        "xaxis": {
         "anchor": "y",
         "domain": [
          0,
          1
         ],
         "title": {
          "text": "Iteration"
         }
        },
        "yaxis": {
         "anchor": "x",
         "domain": [
          0,
          1
         ],
         "title": {
          "text": "Accuracy"
         }
        }
       }
      }
     },
     "metadata": {},
     "output_type": "display_data"
    },
    {
     "name": "stdout",
     "output_type": "stream",
     "text": [
      "Best accuracy: 0.8657718120805369 at iteration 49 with ['498.821' '504.19' '687.964' '688.41' '731.2' '737.734' '745.113'\n",
      " '751.169' '763.223' '941.147' '942.315' '945.428' '946.982' '948.534'\n",
      " '949.698']\n"
     ]
    }
   ],
   "source": [
    "c.plot_accuracy(run=2)"
   ]
  },
  {
   "cell_type": "code",
   "execution_count": 7,
   "metadata": {},
   "outputs": [
    {
     "name": "stdout",
     "output_type": "stream",
     "text": [
      "\n",
      "3 COMBINATIONS\n",
      "2) ['450.404', '450.903', '451.403', '451.902', '452.401', '452.9', '453.399', '453.898', '454.396', '454.895', '455.393', '455.892', '456.39', '456.888', '457.386', '457.884', '458.382', '458.879', '459.377', '459.874', '460.372', '460.869', '461.366', '461.863', '462.36', '462.857', '463.353', '463.85', '464.346', '464.843', '465.339', '465.835', '466.331', '466.827', '467.323', '467.818', '468.314', '468.809', '469.305', '469.8', '470.295', '470.79', '471.285', '471.78', '472.274', '472.769', '473.263', '473.758', '474.252', '474.746', '475.24', '475.734', '476.228', '476.721', '477.215', '477.708', '478.202', '478.695', '479.188', '479.681', '480.174', '480.667', '481.159', '481.652', '482.144', '482.637', '483.129', '483.621', '484.113', '484.605', '485.097', '485.588', '486.08', '486.571', '487.063', '487.554', '488.045', '488.536', '489.027', '489.518', '490.008', '490.499', '490.989', '491.48', '491.97', '492.46', '492.95', '493.44', '493.93', '494.419', '494.909', '495.398', '495.888', '496.377', '496.866', '497.355', '497.844', '498.333', '498.821', '499.31', '499.798', '500.287', '500.775', '501.263', '501.751', '502.239', '502.727', '503.215', '503.702', '504.19', '504.677', '505.164', '505.651', '506.139', '506.625', '507.112', '507.599', '508.086', '508.572', '509.058', '509.545', '510.031', '510.517', '511.003', '511.489', '511.974', '512.46', '512.946', '513.431', '513.916', '514.401', '514.887', '515.371', '515.856', '516.341', '516.826', '517.31', '517.795', '518.279', '518.763', '519.247', '519.731', '520.215', '520.699', '521.182', '521.666', '522.149', '522.633', '523.116', '523.599', '524.082', '524.565', '525.048', '525.53', '526.013', '526.495', '526.978', '527.46', '527.942', '528.424', '528.906', '529.388', '529.87', '530.351', '530.833', '531.314', '531.795', '532.277', '532.758', '533.238', '533.719', '534.2', '534.681', '535.161', '535.642', '536.122', '536.602', '537.082', '537.562', '538.042', '538.522', '539.001', '539.481', '539.96', '540.44', '540.919', '541.398', '541.877', '542.356', '542.835', '543.313', '543.792', '544.27', '544.749', '545.227', '545.705', '546.183', '546.661', '547.139', '547.616', '548.094', '548.571', '549.049', '549.526', '550.003', '550.48', '550.957', '551.434', '551.911', '552.387', '552.864', '553.34', '553.817', '554.293', '554.769', '555.245', '555.721', '556.197', '556.672', '557.148', '557.623', '558.099', '558.574', '559.049', '559.524', '559.999', '560.474', '560.948', '561.423', '561.897', '562.372', '562.846', '563.32', '563.794', '564.268', '564.742', '565.216', '565.69', '566.163', '566.636', '567.11', '567.583', '568.056', '568.529', '569.002', '569.475', '569.947', '570.42', '570.892', '571.365', '571.837', '572.309', '572.781', '573.253', '573.725', '574.197', '574.668', '575.14', '575.611', '576.082', '576.554', '577.025', '577.496', '577.967', '578.437', '578.908', '579.379', '579.849', '580.319', '580.79', '581.26', '581.73', '582.2', '582.669', '583.139', '583.609', '584.078', '584.548', '585.017', '585.486', '585.955', '586.424', '586.893', '587.362', '587.83', '588.299', '588.767', '589.236', '589.704', '590.172', '590.64', '591.108', '591.576', '592.043', '592.511', '592.978', '593.446', '593.913', '594.38', '594.847', '595.314', '595.781', '596.248', '596.715', '597.181', '597.647', '598.114', '598.58', '599.046', '599.512', '599.978', '600.444', '600.91', '601.375', '601.841', '602.306', '602.771', '603.236', '603.702', '604.167', '604.631', '605.096', '605.561', '606.025', '606.49', '606.954', '607.418', '607.882', '608.347', '608.81', '609.274', '609.738', '610.202', '610.665', '611.128', '611.592', '612.055', '612.518', '612.981', '613.444', '613.907', '614.369', '614.832', '615.294', '615.757', '616.219', '616.681', '617.143', '617.605', '618.067', '618.529', '618.99', '619.452', '619.913', '620.375', '620.836', '621.297', '621.758', '622.219', '622.68', '623.14', '623.601', '624.061', '624.522', '624.982', '625.442', '625.902', '626.362', '626.822', '627.282', '627.742', '628.201', '628.661', '629.12', '629.579', '630.038', '630.497', '630.956', '631.415', '631.874', '632.332', '632.791', '633.249', '633.708', '634.166', '634.624', '635.082', '635.54', '635.998', '636.455', '636.913', '637.37', '637.828', '638.285', '638.742', '639.199', '639.656', '640.113', '640.57', '641.027', '641.483', '641.94', '642.396', '642.852', '643.309', '643.765', '644.221', '644.676', '645.132', '645.588', '646.043', '646.499', '646.954', '647.409', '647.864', '648.319', '648.774', '649.229', '649.684', '650.139', '650.593', '651.047', '651.502', '651.956', '652.41', '652.864', '653.318', '653.772', '654.225', '654.679', '655.133', '655.586', '656.039', '656.492', '656.946', '657.399', '657.851', '658.304', '658.757', '659.209', '659.662', '660.114', '660.567', '661.019', '661.471', '661.923', '662.375', '662.826', '663.278', '663.73', '664.181', '664.632', '665.084', '665.535', '665.986', '666.437', '666.888', '667.338', '667.789', '668.24', '668.69', '669.14', '669.591', '670.041', '670.491', '670.941', '671.391', '671.84', '672.29', '672.74', '673.189', '673.638', '674.088', '674.537', '674.986', '675.435', '675.883', '676.332', '676.781', '677.229', '677.678', '678.126', '678.574', '679.022', '679.47', '679.918', '680.366', '680.814', '681.261', '681.709', '682.156', '682.604', '683.051', '683.498', '683.945', '684.392', '684.839', '685.286', '685.732', '686.179', '686.625', '687.071', '687.518', '687.964', '688.41', '688.856', '689.301', '689.747', '690.193', '690.638', '691.084', '691.529', '691.974', '692.419', '692.864', '693.309', '693.754', '694.199', '694.643', '695.088', '695.532', '695.977', '696.421', '696.865', '697.309', '697.753', '698.197', '698.64', '699.084', '699.527', '699.971', '700.414', '700.857', '701.3', '701.743', '702.186', '702.629', '703.072', '703.515', '703.957', '704.399', '704.842', '705.284', '705.726', '706.168', '706.61', '707.052', '707.494', '707.935', '708.377', '708.818', '709.26', '709.701', '710.142', '710.583', '711.024', '711.465', '711.905', '712.346', '712.787', '713.227', '713.667', '714.108', '714.548', '714.988', '715.428', '715.868', '716.307', '716.747', '717.186', '717.626', '718.065', '718.504', '718.944', '719.383', '719.822', '720.261', '720.699', '721.138', '721.576', '722.015', '722.453', '722.892', '723.33', '723.768', '724.206', '724.644', '725.081', '725.519', '725.957', '726.394', '726.832', '727.269', '727.706', '728.143', '728.58', '729.017', '729.454', '729.89', '730.327', '730.764', '731.2', '731.636', '732.072', '732.509', '732.945', '733.38', '733.816', '734.252', '734.688', '735.123', '735.559', '735.994', '736.429', '736.864', '737.299', '737.734', '738.169', '738.604', '739.038', '739.473', '739.907', '740.342', '740.776', '741.21', '741.644', '742.078', '742.512', '742.946', '743.379', '743.813', '744.246', '744.68', '745.113', '745.546', '745.979', '746.412', '746.845', '747.278', '747.711', '748.143', '748.576', '749.008', '749.441', '749.873', '750.305', '750.737', '751.169', '751.601', '752.032', '752.464', '752.896', '753.327', '753.758', '754.19', '754.621', '755.052', '755.483', '755.914', '756.344', '756.775', '757.206', '757.636', '758.066', '758.497', '758.927', '759.357', '759.787', '760.217', '760.647', '761.076', '761.506', '761.935', '762.365', '762.794', '763.223', '763.653', '764.082', '764.51', '764.939', '765.368', '765.797', '766.225', '766.654', '767.082', '767.51', '767.938', '768.367', '768.795', '769.222', '769.65', '770.078', '770.505', '770.933', '771.36', '771.788', '772.215', '772.642', '773.069', '773.496', '773.923', '774.349', '774.776', '775.203', '775.629', '776.055', '776.482', '776.908', '777.334', '777.76', '778.186', '778.611', '779.037', '779.463', '779.888', '780.314', '780.739', '781.164', '781.589', '782.014', '782.439', '782.864', '783.289', '783.713', '784.138', '784.562', '784.987', '785.411', '785.835', '786.259', '786.683', '787.107', '787.531', '787.954', '788.378', '788.802', '789.225', '789.648', '790.071', '790.495', '790.918', '791.34', '791.763', '792.186', '792.609', '793.031', '793.454', '793.876', '794.298', '794.721', '795.143', '795.565', '795.986', '796.408', '796.83', '797.252', '797.673', '798.094', '798.516', '798.937', '799.358', '799.779', '800.2', '800.621', '801.042', '801.462', '801.883', '802.303', '802.724', '803.144', '803.564', '803.984', '804.404', '804.824', '805.244', '805.664', '806.084', '806.503', '806.923', '807.342', '807.761', '808.18', '808.599', '809.018', '809.437', '809.856', '810.275', '810.693', '811.112', '811.53', '811.949', '812.367', '812.785', '813.203', '813.621', '814.039', '814.457', '814.874', '815.292', '815.709', '816.127', '816.544', '816.961', '817.378', '817.795', '818.212', '818.629', '819.046', '819.462', '819.879', '820.295', '820.712', '821.128', '821.544', '821.96', '822.376', '822.792', '823.208', '823.624', '824.039', '824.455', '824.87', '825.286', '825.701', '826.116', '826.531', '826.946', '827.361', '827.776', '828.19', '828.605', '829.02', '829.434', '829.848', '830.263', '830.677', '831.091', '831.505', '831.919', '832.332', '832.746', '833.16', '833.573', '833.987', '834.4', '834.813', '835.226', '835.639', '836.052', '836.465', '836.878', '837.29', '837.703', '838.116', '838.528', '838.94', '839.352', '839.765', '840.177', '840.589', '841.0', '841.412', '841.824', '842.235', '842.647', '843.058', '843.47', '843.881', '844.292', '844.703', '845.114', '845.525', '845.935', '846.346', '846.757', '847.167', '847.577', '847.988', '848.398', '848.808', '849.218', '849.628', '850.038', '850.448', '850.857', '851.267', '851.676', '852.086', '852.495', '852.904', '853.313', '853.722', '854.131', '854.54', '854.949', '855.357', '855.766', '856.174', '856.583', '856.991', '857.399', '857.807', '858.215', '858.623', '859.031', '859.439', '859.846', '860.254', '860.661', '861.069', '861.476', '861.883', '862.29', '862.697', '863.104', '863.511', '863.918', '864.325', '864.731', '865.138', '865.544', '865.95', '866.357', '866.763', '867.169', '867.575', '867.98', '868.386', '868.792', '869.197', '869.603', '870.008', '870.414', '870.819', '871.224', '871.629', '872.034', '872.439', '872.844', '873.248', '873.653', '874.057', '874.462', '874.866', '875.27', '875.674', '876.078', '876.482', '876.886', '877.29', '877.694', '878.097', '878.501', '878.904', '879.308', '879.711', '880.114', '880.517', '880.92', '881.323', '881.726', '882.128', '882.531', '882.934', '883.336', '883.738', '884.141', '884.543', '884.945', '885.347', '885.749', '886.151', '886.552', '886.954', '887.355', '887.757', '888.158', '888.56', '888.961', '889.362', '889.763', '890.164', '890.565', '890.965', '891.366', '891.767', '892.167', '892.567', '892.968', '893.368', '893.768', '894.168', '894.568', '894.968', '895.368', '895.767', '896.167', '896.566', '896.966', '897.365', '897.764', '898.164', '898.563', '898.962', '899.361', '899.759', '900.158', '900.557', '900.955', '901.354', '901.752', '902.15', '902.548', '902.947', '903.345', '903.742', '904.14', '904.538', '904.936', '905.333', '905.731', '906.128', '906.525', '906.923', '907.32', '907.717', '908.114', '908.511', '908.907', '909.304', '909.701', '910.097', '910.494', '910.89', '911.286', '911.682', '912.078', '912.474', '912.87', '913.266', '913.662', '914.058', '914.453', '914.849', '915.244', '915.639', '916.034', '916.43', '916.825', '917.22', '917.614', '918.009', '918.404', '918.798', '919.193', '919.587', '919.982', '920.376', '920.77', '921.164', '921.558', '921.952', '922.346', '922.74', '923.133', '923.527', '923.92', '924.314', '924.707', '925.1', '925.493', '925.886', '926.279', '926.672', '927.065', '927.457', '927.85', '928.243', '928.635', '929.027', '929.42', '929.812', '930.204', '930.596', '930.988', '931.379', '931.771', '932.163', '932.554', '932.946', '933.337', '933.729', '934.12', '934.511', '934.902', '935.293', '935.684', '936.075', '936.465', '936.856', '937.246', '937.637', '938.027', '938.417', '938.808', '939.198', '939.588', '939.978', '940.368', '940.757', '941.147', '941.537', '941.926', '942.315', '942.705', '943.094', '943.483', '943.872', '944.261', '944.65', '945.039', '945.428', '945.816', '946.205', '946.593', '946.982', '947.37', '947.758', '948.146', '948.534', '948.922', '949.31', '949.698']\n",
      "1133\n"
     ]
    },
    {
     "data": {
      "image/png": "[encoded data removed]",
      "text/plain": [
       "<Figure size 640x480 with 2 Axes>"
      ]
     },
     "metadata": {},
     "output_type": "display_data"
    },
    {
     "data": {
      "image/png": "[encoded data removed]",
      "text/plain": [
       "<Figure size 1200x800 with 1 Axes>"
      ]
     },
     "metadata": {},
     "output_type": "display_data"
    },
    {
     "name": "stdout",
     "output_type": "stream",
     "text": [
      "Accuracy: 0.77 - Recall: 0.96\n",
      "Precision: 0.68 - F1: 0.80 - ROC: 0.83 - Cutoff: 0.37\n",
      "\n",
      "1) ['498.821', '499.31', '502.727', '504.19', '506.139', '689.301', '763.223', '941.537', '942.315', '946.982', '948.534', '949.698']\n",
      "12\n"
     ]
    },
    {
     "data": {
      "image/png": "[encoded data removed]",
      "text/plain": [
       "<Figure size 640x480 with 2 Axes>"
      ]
     },
     "metadata": {},
     "output_type": "display_data"
    },
    {
     "data": {
      "image/png": "[encoded data removed]",
      "text/plain": [
       "<Figure size 1200x800 with 1 Axes>"
      ]
     },
     "metadata": {},
     "output_type": "display_data"
    },
    {
     "name": "stdout",
     "output_type": "stream",
     "text": [
      "Accuracy: 0.84 - Recall: 0.86\n",
      "Precision: 0.82 - F1: 0.84 - ROC: 0.87 - Cutoff: 0.49\n",
      "\n",
      "0) ['498.821', '506.139', '689.301', '763.223', '941.537', '949.698']\n",
      "6\n"
     ]
    },
    {
     "data": {
      "image/png": "[encoded data removed]",
      "text/plain": [
       "<Figure size 640x480 with 2 Axes>"
      ]
     },
     "metadata": {},
     "output_type": "display_data"
    },
    {
     "data": {
      "image/png": "[encoded data removed]",
      "text/plain": [
       "<Figure size 1200x800 with 1 Axes>"
      ]
     },
     "metadata": {},
     "output_type": "display_data"
    },
    {
     "name": "stdout",
     "output_type": "stream",
     "text": [
      "Accuracy: 0.83 - Recall: 0.83\n",
      "Precision: 0.82 - F1: 0.83 - ROC: 0.87 - Cutoff: 0.49\n",
      "\n",
      "2 & False & 1133 & 0.77 & 0.96 & 0.68 & 0.80 & 0.27 & 0.83 & 0.37 \\\\ \\hline\n",
      "2 & False & 12 & 0.84 & 0.86 & 0.82 & 0.84 & 0.33 & 0.87 & 0.49 \\\\ \\hline\n",
      "2 & False & 6 & 0.83 & 0.83 & 0.82 & 0.83 & 0.34 & 0.87 & 0.49 \\\\ \\hline\n",
      "\n"
     ]
    }
   ],
   "source": [
    "wavelenghts = [\n",
    "            ['498.821', '506.139', '689.301', '763.223', '941.537', '949.698']\n",
    "            ]\n",
    "a, l = c.accuracy_survived_wavelenghts(thr=[300], rdm=False, all=True, model_type='PLS', wavelengths=wavelenghts, learning_curve=True, confusion_matrix=True)"
   ]
  },
  {
   "cell_type": "code",
   "execution_count": 8,
   "metadata": {},
   "outputs": [],
   "source": [
    "# for w in l:\n",
    "#     c.permutation_test(w, 1000)"
   ]
  }
 ],
 "metadata": {
  "kernelspec": {
   "display_name": "Python 3",
   "language": "python",
   "name": "python3"
  },
  "language_info": {
   "codemirror_mode": {
    "name": "ipython",
    "version": 3
   },
   "file_extension": ".py",
   "mimetype": "text/x-python",
   "name": "python",
   "nbconvert_exporter": "python",
   "pygments_lexer": "ipython3",
   "version": "3.11.11"
  }
 },
 "nbformat": 4,
 "nbformat_minor": 2
}
